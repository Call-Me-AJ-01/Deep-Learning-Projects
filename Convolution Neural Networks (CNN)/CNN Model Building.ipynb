{
 "cells": [
  {
   "cell_type": "markdown",
   "metadata": {},
   "source": [
    "### Importing The Package That Are Required For Building The CNN Model"
   ]
  },
  {
   "cell_type": "code",
   "execution_count": 1,
   "metadata": {},
   "outputs": [
    {
     "name": "stderr",
     "output_type": "stream",
     "text": [
      "Using TensorFlow backend.\n",
      "C:\\Users\\Admin\\anaconda3\\lib\\site-packages\\tensorflow\\python\\framework\\dtypes.py:516: FutureWarning: Passing (type, 1) or '1type' as a synonym of type is deprecated; in a future version of numpy, it will be understood as (type, (1,)) / '(1,)type'.\n",
      "  _np_qint8 = np.dtype([(\"qint8\", np.int8, 1)])\n",
      "C:\\Users\\Admin\\anaconda3\\lib\\site-packages\\tensorflow\\python\\framework\\dtypes.py:517: FutureWarning: Passing (type, 1) or '1type' as a synonym of type is deprecated; in a future version of numpy, it will be understood as (type, (1,)) / '(1,)type'.\n",
      "  _np_quint8 = np.dtype([(\"quint8\", np.uint8, 1)])\n",
      "C:\\Users\\Admin\\anaconda3\\lib\\site-packages\\tensorflow\\python\\framework\\dtypes.py:518: FutureWarning: Passing (type, 1) or '1type' as a synonym of type is deprecated; in a future version of numpy, it will be understood as (type, (1,)) / '(1,)type'.\n",
      "  _np_qint16 = np.dtype([(\"qint16\", np.int16, 1)])\n",
      "C:\\Users\\Admin\\anaconda3\\lib\\site-packages\\tensorflow\\python\\framework\\dtypes.py:519: FutureWarning: Passing (type, 1) or '1type' as a synonym of type is deprecated; in a future version of numpy, it will be understood as (type, (1,)) / '(1,)type'.\n",
      "  _np_quint16 = np.dtype([(\"quint16\", np.uint16, 1)])\n",
      "C:\\Users\\Admin\\anaconda3\\lib\\site-packages\\tensorflow\\python\\framework\\dtypes.py:520: FutureWarning: Passing (type, 1) or '1type' as a synonym of type is deprecated; in a future version of numpy, it will be understood as (type, (1,)) / '(1,)type'.\n",
      "  _np_qint32 = np.dtype([(\"qint32\", np.int32, 1)])\n",
      "C:\\Users\\Admin\\anaconda3\\lib\\site-packages\\tensorflow\\python\\framework\\dtypes.py:525: FutureWarning: Passing (type, 1) or '1type' as a synonym of type is deprecated; in a future version of numpy, it will be understood as (type, (1,)) / '(1,)type'.\n",
      "  np_resource = np.dtype([(\"resource\", np.ubyte, 1)])\n",
      "C:\\Users\\Admin\\anaconda3\\lib\\site-packages\\tensorboard\\compat\\tensorflow_stub\\dtypes.py:541: FutureWarning: Passing (type, 1) or '1type' as a synonym of type is deprecated; in a future version of numpy, it will be understood as (type, (1,)) / '(1,)type'.\n",
      "  _np_qint8 = np.dtype([(\"qint8\", np.int8, 1)])\n",
      "C:\\Users\\Admin\\anaconda3\\lib\\site-packages\\tensorboard\\compat\\tensorflow_stub\\dtypes.py:542: FutureWarning: Passing (type, 1) or '1type' as a synonym of type is deprecated; in a future version of numpy, it will be understood as (type, (1,)) / '(1,)type'.\n",
      "  _np_quint8 = np.dtype([(\"quint8\", np.uint8, 1)])\n",
      "C:\\Users\\Admin\\anaconda3\\lib\\site-packages\\tensorboard\\compat\\tensorflow_stub\\dtypes.py:543: FutureWarning: Passing (type, 1) or '1type' as a synonym of type is deprecated; in a future version of numpy, it will be understood as (type, (1,)) / '(1,)type'.\n",
      "  _np_qint16 = np.dtype([(\"qint16\", np.int16, 1)])\n",
      "C:\\Users\\Admin\\anaconda3\\lib\\site-packages\\tensorboard\\compat\\tensorflow_stub\\dtypes.py:544: FutureWarning: Passing (type, 1) or '1type' as a synonym of type is deprecated; in a future version of numpy, it will be understood as (type, (1,)) / '(1,)type'.\n",
      "  _np_quint16 = np.dtype([(\"quint16\", np.uint16, 1)])\n",
      "C:\\Users\\Admin\\anaconda3\\lib\\site-packages\\tensorboard\\compat\\tensorflow_stub\\dtypes.py:545: FutureWarning: Passing (type, 1) or '1type' as a synonym of type is deprecated; in a future version of numpy, it will be understood as (type, (1,)) / '(1,)type'.\n",
      "  _np_qint32 = np.dtype([(\"qint32\", np.int32, 1)])\n",
      "C:\\Users\\Admin\\anaconda3\\lib\\site-packages\\tensorboard\\compat\\tensorflow_stub\\dtypes.py:550: FutureWarning: Passing (type, 1) or '1type' as a synonym of type is deprecated; in a future version of numpy, it will be understood as (type, (1,)) / '(1,)type'.\n",
      "  np_resource = np.dtype([(\"resource\", np.ubyte, 1)])\n"
     ]
    }
   ],
   "source": [
    "from keras.models import Sequential\n",
    "from keras.layers import Dense\n",
    "from keras.layers import Convolution2D\n",
    "from keras.layers import MaxPooling2D\n",
    "from keras.layers import Flatten"
   ]
  },
  {
   "cell_type": "markdown",
   "metadata": {},
   "source": [
    "### Image Preprocessing"
   ]
  },
  {
   "cell_type": "code",
   "execution_count": 2,
   "metadata": {},
   "outputs": [
    {
     "data": {
      "text/plain": [
       "'It Rotates The Image Horizontally'"
      ]
     },
     "execution_count": 2,
     "metadata": {},
     "output_type": "execute_result"
    }
   ],
   "source": [
    "from keras.preprocessing.image import ImageDataGenerator\n",
    "train_data=ImageDataGenerator(rescale=1./255,shear_range=0.2,zoom_range=0.2,horizontal_flip=True)\n",
    "test_data=ImageDataGenerator(rescale=1./255)\n",
    "\n",
    "#Note:- Only for the training dataset The Below Mention arguments has to be followed Since These Datasets are Used For Training Purpose\n",
    "#       In Testing Part Image Is directly tested  \n",
    "\n",
    "# Rescale\n",
    "''' The RGB Color values changes its range from (0-255) to (0-1) format\n",
    "    Range Of Red Color is Changed From (0-255) to (0-1)\n",
    "    Range Of Green Color is Changed From (0-255) to (0-1)\n",
    "    Range Of Blue Color is Changed From (0-255) to (0-1)'''\n",
    "\n",
    "#shear_range\n",
    "'''Zooms Out the picture for the given range'''\n",
    "\n",
    "#zoom_range\n",
    "'''Zooms in the picture for the given range'''\n",
    "\n",
    "#horizontal_flip\n",
    "'''It Rotates The Image Horizontally'''"
   ]
  },
  {
   "cell_type": "markdown",
   "metadata": {},
   "source": [
    "### Loading The x_train,y_train dataset"
   ]
  },
  {
   "cell_type": "code",
   "execution_count": 3,
   "metadata": {},
   "outputs": [
    {
     "name": "stdout",
     "output_type": "stream",
     "text": [
      "Found 1495 images belonging to 5 classes.\n",
      "Found 640 images belonging to 5 classes.\n"
     ]
    }
   ],
   "source": [
    "x_train=train_data.flow_from_directory(r'Crop-animal data\\trainset',target_size=(64,64),batch_size=32)\n",
    "x_test=test_data.flow_from_directory(r'Crop-animal data\\testset',target_size=(64,64),batch_size=32)"
   ]
  },
  {
   "cell_type": "markdown",
   "metadata": {},
   "source": [
    "### Finding The Indices Of Each Classes"
   ]
  },
  {
   "cell_type": "code",
   "execution_count": 4,
   "metadata": {},
   "outputs": [
    {
     "data": {
      "text/plain": [
       "{'bears': 0, 'crows': 1, 'elephants': 2, 'racoons': 3, 'rats': 4}"
      ]
     },
     "execution_count": 4,
     "metadata": {},
     "output_type": "execute_result"
    }
   ],
   "source": [
    "x_train.class_indices"
   ]
  },
  {
   "cell_type": "markdown",
   "metadata": {},
   "source": [
    "### Building The Model"
   ]
  },
  {
   "cell_type": "code",
   "execution_count": 5,
   "metadata": {},
   "outputs": [
    {
     "name": "stdout",
     "output_type": "stream",
     "text": [
      "WARNING:tensorflow:From C:\\Users\\Admin\\anaconda3\\lib\\site-packages\\keras\\backend\\tensorflow_backend.py:74: The name tf.get_default_graph is deprecated. Please use tf.compat.v1.get_default_graph instead.\n",
      "\n"
     ]
    }
   ],
   "source": [
    "model=Sequential()"
   ]
  },
  {
   "cell_type": "markdown",
   "metadata": {},
   "source": [
    "### Convolution Neural Network Layer\n",
    "\n",
    "    1) Convolution Layer\n",
    "    2) Max Pooling\n",
    "    3) Flasttern\n",
    "    4) Fully connected Layer"
   ]
  },
  {
   "cell_type": "markdown",
   "metadata": {},
   "source": [
    "### Adding Convolution Layer To The Model"
   ]
  },
  {
   "cell_type": "code",
   "execution_count": 6,
   "metadata": {},
   "outputs": [
    {
     "name": "stdout",
     "output_type": "stream",
     "text": [
      "WARNING:tensorflow:From C:\\Users\\Admin\\anaconda3\\lib\\site-packages\\keras\\backend\\tensorflow_backend.py:517: The name tf.placeholder is deprecated. Please use tf.compat.v1.placeholder instead.\n",
      "\n",
      "WARNING:tensorflow:From C:\\Users\\Admin\\anaconda3\\lib\\site-packages\\keras\\backend\\tensorflow_backend.py:4138: The name tf.random_uniform is deprecated. Please use tf.random.uniform instead.\n",
      "\n"
     ]
    },
    {
     "data": {
      "text/plain": [
       "'Activation argument has to be given since we are adding layer to the model'"
      ]
     },
     "execution_count": 6,
     "metadata": {},
     "output_type": "execute_result"
    }
   ],
   "source": [
    "model.add(Convolution2D(32,(3,3),input_shape=(64,64,3),activation='relu'))\n",
    "\n",
    "# The Argument passed for Convolution2D is\n",
    "# Convolution2D (No.of Features , size of features , input_shape=(pixel size,pixel size , color format,activation='relu'))\n",
    "\n",
    "# No.Of Features\n",
    "'''Note:-Feature Size = Batch Size\n",
    "    for each batch a feature is required\n",
    "    So In My Case there are 32 Batches so for Each Batch i need a Feature\n",
    "    so there are 32 batches in my model so i require 32 features'''\n",
    "\n",
    "# Size Of Feature\n",
    "''' The Matrix Size Of The Feature\n",
    "    It can Be 3*3,5*5,7*7'''\n",
    "\n",
    "# Input_Shape\n",
    "'''Pixel Size Should be 64 since the model is trained using CPU If you Give pixel in Higher Range The system will be hanged\n",
    "   Pixel Size can be of 64,128,256,512,1024....'''\n",
    "'''The Color Format is also given with the pixel\n",
    "   If the Color Format is 3 it is of RGB format (colored Image) The Colored Image is of categorical format (Red,Green,Blue)\n",
    "   If the color Format is 1 it is of Grayscale Format (black and white image) the Grayscale Image is of classification format (0 or 1)'''\n",
    "    \n",
    "# activation\n",
    "'''Activation argument has to be given since we are adding layer to the model'''"
   ]
  },
  {
   "cell_type": "markdown",
   "metadata": {},
   "source": [
    "### Adding MaxPooling Layer To The Model"
   ]
  },
  {
   "cell_type": "code",
   "execution_count": 7,
   "metadata": {},
   "outputs": [
    {
     "name": "stdout",
     "output_type": "stream",
     "text": [
      "WARNING:tensorflow:From C:\\Users\\Admin\\anaconda3\\lib\\site-packages\\keras\\backend\\tensorflow_backend.py:3976: The name tf.nn.max_pool is deprecated. Please use tf.nn.max_pool2d instead.\n",
      "\n"
     ]
    }
   ],
   "source": [
    "model.add(MaxPooling2D(pool_size=(2,2)))"
   ]
  },
  {
   "cell_type": "markdown",
   "metadata": {},
   "source": [
    "### Adding Flattern Layer To The Model"
   ]
  },
  {
   "cell_type": "code",
   "execution_count": 8,
   "metadata": {},
   "outputs": [],
   "source": [
    "# This Acts as an Input Layer To ANN \n",
    "\n",
    "model.add(Flatten())"
   ]
  },
  {
   "cell_type": "markdown",
   "metadata": {},
   "source": [
    "### Adding Hidden Layer To The Model"
   ]
  },
  {
   "cell_type": "code",
   "execution_count": 9,
   "metadata": {},
   "outputs": [
    {
     "name": "stderr",
     "output_type": "stream",
     "text": [
      "C:\\Users\\Admin\\anaconda3\\lib\\site-packages\\ipykernel_launcher.py:1: UserWarning: Update your `Dense` call to the Keras 2 API: `Dense(units=128, activation=\"relu\", kernel_initializer=\"random_uniform\")`\n",
      "  \"\"\"Entry point for launching an IPython kernel.\n"
     ]
    }
   ],
   "source": [
    "model.add(Dense(units=128,init='random_uniform',activation='relu'))\n",
    "\n",
    "# units=pixel_size*2"
   ]
  },
  {
   "cell_type": "markdown",
   "metadata": {},
   "source": [
    "### Adding Output Layer"
   ]
  },
  {
   "cell_type": "code",
   "execution_count": 10,
   "metadata": {},
   "outputs": [
    {
     "data": {
      "text/plain": [
       "{'bears': 0, 'crows': 1, 'elephants': 2, 'racoons': 3, 'rats': 4}"
      ]
     },
     "execution_count": 10,
     "metadata": {},
     "output_type": "execute_result"
    }
   ],
   "source": [
    "x_train.class_indices"
   ]
  },
  {
   "cell_type": "code",
   "execution_count": 11,
   "metadata": {},
   "outputs": [
    {
     "name": "stdout",
     "output_type": "stream",
     "text": [
      "there can be : 5 kind of outputs\n"
     ]
    }
   ],
   "source": [
    "print('there can be :',len(x_train.class_indices),'kind of outputs') # There are 5 kind of outputs"
   ]
  },
  {
   "cell_type": "code",
   "execution_count": 12,
   "metadata": {},
   "outputs": [
    {
     "name": "stderr",
     "output_type": "stream",
     "text": [
      "C:\\Users\\Admin\\anaconda3\\lib\\site-packages\\ipykernel_launcher.py:1: UserWarning: Update your `Dense` call to the Keras 2 API: `Dense(units=5, activation=\"softmax\", kernel_initializer=\"random_uniform\")`\n",
      "  \"\"\"Entry point for launching an IPython kernel.\n"
     ]
    }
   ],
   "source": [
    "model.add(Dense(units=len(x_train.class_indices),init='random_uniform',activation='softmax'))\n",
    "\n",
    "# units=How Many kind of Outputs are Possible"
   ]
  },
  {
   "cell_type": "markdown",
   "metadata": {},
   "source": [
    "### Compiling The Model"
   ]
  },
  {
   "cell_type": "code",
   "execution_count": 13,
   "metadata": {
    "scrolled": true
   },
   "outputs": [
    {
     "name": "stdout",
     "output_type": "stream",
     "text": [
      "WARNING:tensorflow:From C:\\Users\\Admin\\anaconda3\\lib\\site-packages\\keras\\optimizers.py:790: The name tf.train.Optimizer is deprecated. Please use tf.compat.v1.train.Optimizer instead.\n",
      "\n",
      "WARNING:tensorflow:From C:\\Users\\Admin\\anaconda3\\lib\\site-packages\\keras\\backend\\tensorflow_backend.py:3295: The name tf.log is deprecated. Please use tf.math.log instead.\n",
      "\n"
     ]
    }
   ],
   "source": [
    "model.compile(optimizer='adam',loss='categorical_crossentropy',metrics=['accuracy'])"
   ]
  },
  {
   "cell_type": "markdown",
   "metadata": {},
   "source": [
    "### Training and Testing The Model Is Done On The Same Time On CNN Model"
   ]
  },
  {
   "cell_type": "code",
   "execution_count": 14,
   "metadata": {},
   "outputs": [
    {
     "name": "stdout",
     "output_type": "stream",
     "text": [
      "WARNING:tensorflow:From C:\\Users\\Admin\\anaconda3\\lib\\site-packages\\tensorflow\\python\\ops\\math_grad.py:1250: add_dispatch_support.<locals>.wrapper (from tensorflow.python.ops.array_ops) is deprecated and will be removed in a future version.\n",
      "Instructions for updating:\n",
      "Use tf.where in 2.0, which has the same broadcast rule as np.where\n",
      "WARNING:tensorflow:From C:\\Users\\Admin\\anaconda3\\lib\\site-packages\\keras\\backend\\tensorflow_backend.py:986: The name tf.assign_add is deprecated. Please use tf.compat.v1.assign_add instead.\n",
      "\n",
      "Epoch 1/50\n",
      "46/46 [==============================] - 24s 521ms/step - loss: 1.5607 - acc: 0.3057 - val_loss: 1.3282 - val_acc: 0.3469\n",
      "Epoch 2/50\n",
      "46/46 [==============================] - 20s 426ms/step - loss: 1.3227 - acc: 0.4533 - val_loss: 0.9576 - val_acc: 0.6797\n",
      "Epoch 3/50\n",
      "46/46 [==============================] - 20s 438ms/step - loss: 1.1569 - acc: 0.5671 - val_loss: 0.8935 - val_acc: 0.6484\n",
      "Epoch 4/50\n",
      "46/46 [==============================] - 20s 436ms/step - loss: 1.0847 - acc: 0.5722 - val_loss: 0.7538 - val_acc: 0.7281\n",
      "Epoch 5/50\n",
      "46/46 [==============================] - 20s 441ms/step - loss: 0.9633 - acc: 0.6383 - val_loss: 0.9357 - val_acc: 0.5953\n",
      "Epoch 6/50\n",
      "46/46 [==============================] - 19s 423ms/step - loss: 0.9359 - acc: 0.6371 - val_loss: 0.8707 - val_acc: 0.6750\n",
      "Epoch 7/50\n",
      "46/46 [==============================] - 20s 437ms/step - loss: 0.8468 - acc: 0.6858 - val_loss: 0.8579 - val_acc: 0.6766\n",
      "Epoch 8/50\n",
      "46/46 [==============================] - 20s 444ms/step - loss: 0.8023 - acc: 0.7096 - val_loss: 0.6435 - val_acc: 0.7656\n",
      "Epoch 9/50\n",
      "46/46 [==============================] - 19s 412ms/step - loss: 0.7463 - acc: 0.7223 - val_loss: 0.6569 - val_acc: 0.7516\n",
      "Epoch 10/50\n",
      "46/46 [==============================] - 21s 446ms/step - loss: 0.6770 - acc: 0.7555 - val_loss: 0.4602 - val_acc: 0.8562\n",
      "Epoch 11/50\n",
      "46/46 [==============================] - 20s 433ms/step - loss: 0.6694 - acc: 0.7547 - val_loss: 0.4696 - val_acc: 0.8500\n",
      "Epoch 12/50\n",
      "46/46 [==============================] - 21s 448ms/step - loss: 0.5916 - acc: 0.7893 - val_loss: 0.6321 - val_acc: 0.7594\n",
      "Epoch 13/50\n",
      "46/46 [==============================] - 19s 413ms/step - loss: 0.5421 - acc: 0.8225 - val_loss: 0.6769 - val_acc: 0.7438\n",
      "Epoch 14/50\n",
      "46/46 [==============================] - 20s 445ms/step - loss: 0.5128 - acc: 0.8230 - val_loss: 0.3989 - val_acc: 0.8688\n",
      "Epoch 15/50\n",
      "46/46 [==============================] - 20s 429ms/step - loss: 0.4661 - acc: 0.8370 - val_loss: 0.2789 - val_acc: 0.9187\n",
      "Epoch 16/50\n",
      "46/46 [==============================] - 21s 462ms/step - loss: 0.4174 - acc: 0.8522 - val_loss: 0.2520 - val_acc: 0.9094\n",
      "Epoch 17/50\n",
      "46/46 [==============================] - 19s 416ms/step - loss: 0.4197 - acc: 0.8541 - val_loss: 0.2765 - val_acc: 0.9047\n",
      "Epoch 18/50\n",
      "46/46 [==============================] - 20s 442ms/step - loss: 0.3646 - acc: 0.8655 - val_loss: 0.2162 - val_acc: 0.9313\n",
      "Epoch 19/50\n",
      "46/46 [==============================] - 24s 511ms/step - loss: 0.3661 - acc: 0.8689 - val_loss: 0.2609 - val_acc: 0.9047\n",
      "Epoch 20/50\n",
      "46/46 [==============================] - 24s 516ms/step - loss: 0.3240 - acc: 0.8892 - val_loss: 0.1937 - val_acc: 0.9453\n",
      "Epoch 21/50\n",
      "46/46 [==============================] - 23s 494ms/step - loss: 0.3073 - acc: 0.8909 - val_loss: 0.1824 - val_acc: 0.9422\n",
      "Epoch 22/50\n",
      "46/46 [==============================] - 20s 445ms/step - loss: 0.2485 - acc: 0.9298 - val_loss: 0.1362 - val_acc: 0.9547\n",
      "Epoch 23/50\n",
      "46/46 [==============================] - 20s 440ms/step - loss: 0.2327 - acc: 0.9259 - val_loss: 0.1392 - val_acc: 0.9609\n",
      "Epoch 24/50\n",
      "46/46 [==============================] - 20s 426ms/step - loss: 0.2039 - acc: 0.9367 - val_loss: 0.1169 - val_acc: 0.9688\n",
      "Epoch 25/50\n",
      "46/46 [==============================] - 20s 433ms/step - loss: 0.2032 - acc: 0.9336 - val_loss: 0.1307 - val_acc: 0.9656\n",
      "Epoch 26/50\n",
      "46/46 [==============================] - 20s 439ms/step - loss: 0.1964 - acc: 0.9420 - val_loss: 0.0910 - val_acc: 0.9797\n",
      "Epoch 27/50\n",
      "46/46 [==============================] - 19s 418ms/step - loss: 0.1976 - acc: 0.9297 - val_loss: 0.0745 - val_acc: 0.9781\n",
      "Epoch 28/50\n",
      "46/46 [==============================] - 21s 446ms/step - loss: 0.1662 - acc: 0.9563 - val_loss: 0.0862 - val_acc: 0.9781\n",
      "Epoch 29/50\n",
      "46/46 [==============================] - 19s 423ms/step - loss: 0.1339 - acc: 0.9633 - val_loss: 0.0443 - val_acc: 0.9969\n",
      "Epoch 30/50\n",
      "46/46 [==============================] - 20s 429ms/step - loss: 0.1402 - acc: 0.9575 - val_loss: 0.0752 - val_acc: 0.9859\n",
      "Epoch 31/50\n",
      "46/46 [==============================] - 20s 434ms/step - loss: 0.1236 - acc: 0.9678 - val_loss: 0.0475 - val_acc: 0.9891\n",
      "Epoch 32/50\n",
      "46/46 [==============================] - 20s 433ms/step - loss: 0.1490 - acc: 0.9576 - val_loss: 0.0394 - val_acc: 0.9953\n",
      "Epoch 33/50\n",
      "46/46 [==============================] - 20s 430ms/step - loss: 0.1120 - acc: 0.9660 - val_loss: 0.0565 - val_acc: 0.9828\n",
      "Epoch 34/50\n",
      "46/46 [==============================] - 20s 437ms/step - loss: 0.1315 - acc: 0.9624 - val_loss: 0.0518 - val_acc: 0.9984\n",
      "Epoch 35/50\n",
      "46/46 [==============================] - 20s 436ms/step - loss: 0.1227 - acc: 0.9624 - val_loss: 0.0298 - val_acc: 1.0000\n",
      "Epoch 36/50\n",
      "46/46 [==============================] - 19s 413ms/step - loss: 0.1177 - acc: 0.9681 - val_loss: 0.0405 - val_acc: 0.9953\n",
      "Epoch 37/50\n",
      "46/46 [==============================] - 20s 436ms/step - loss: 0.0890 - acc: 0.9783 - val_loss: 0.0372 - val_acc: 0.9938\n",
      "Epoch 38/50\n",
      "46/46 [==============================] - 21s 451ms/step - loss: 0.0894 - acc: 0.9789 - val_loss: 0.0233 - val_acc: 0.9984\n",
      "Epoch 39/50\n",
      "46/46 [==============================] - 20s 431ms/step - loss: 0.0816 - acc: 0.9814 - val_loss: 0.0239 - val_acc: 0.9953\n",
      "Epoch 40/50\n",
      "46/46 [==============================] - 19s 422ms/step - loss: 0.0945 - acc: 0.9755 - val_loss: 0.0460 - val_acc: 0.9922\n",
      "Epoch 41/50\n",
      "46/46 [==============================] - 19s 420ms/step - loss: 0.0860 - acc: 0.9739 - val_loss: 0.0192 - val_acc: 0.9984\n",
      "Epoch 42/50\n",
      "46/46 [==============================] - 20s 437ms/step - loss: 0.0823 - acc: 0.9762 - val_loss: 0.0251 - val_acc: 0.9938\n",
      "Epoch 43/50\n",
      "46/46 [==============================] - 20s 438ms/step - loss: 0.0815 - acc: 0.9780 - val_loss: 0.0510 - val_acc: 0.9859\n",
      "Epoch 44/50\n",
      "46/46 [==============================] - 20s 430ms/step - loss: 0.0599 - acc: 0.9878 - val_loss: 0.0185 - val_acc: 0.9969\n",
      "Epoch 45/50\n",
      "46/46 [==============================] - 20s 432ms/step - loss: 0.0798 - acc: 0.9789 - val_loss: 0.0199 - val_acc: 0.9953\n",
      "Epoch 46/50\n",
      "46/46 [==============================] - 20s 428ms/step - loss: 0.0515 - acc: 0.9898 - val_loss: 0.0195 - val_acc: 0.9953\n",
      "Epoch 47/50\n",
      "46/46 [==============================] - 20s 439ms/step - loss: 0.0582 - acc: 0.9844 - val_loss: 0.0394 - val_acc: 0.9891\n",
      "Epoch 48/50\n",
      "46/46 [==============================] - 20s 434ms/step - loss: 0.0553 - acc: 0.9864 - val_loss: 0.0282 - val_acc: 0.9922\n",
      "Epoch 49/50\n",
      "46/46 [==============================] - 20s 434ms/step - loss: 0.0493 - acc: 0.9878 - val_loss: 0.0154 - val_acc: 0.9969\n",
      "Epoch 50/50\n",
      "46/46 [==============================] - 20s 435ms/step - loss: 0.0423 - acc: 0.9905 - val_loss: 0.0085 - val_acc: 1.0000\n"
     ]
    },
    {
     "data": {
      "text/plain": [
       "'   for each epochs of given 30 epochs 46(steps_per_epoch) images are trained to the model from the training dataset\\n      and for that trained amount of images 20(validation_steps) images from the testing dataset is tested\\n      and accuracy is given for each epochs of the given (30) epochs'"
      ]
     },
     "execution_count": 14,
     "metadata": {},
     "output_type": "execute_result"
    }
   ],
   "source": [
    "model.fit_generator(x_train,steps_per_epoch=1495//32,validation_data=x_test,validation_steps=20,epochs=50)\n",
    "\n",
    "# Argument Passed For fit_geneator\n",
    "# fit_generator(x_train,steps_per_epoch,validation_data,validation_steps,epochs)\n",
    "\n",
    "# x_train\n",
    "'''   The images that has to be trained to the model is passed'''\n",
    "\n",
    "# steps_per_epoch\n",
    "'''   steps_per_epoch=total no.of pictures on the training dataset/batch_size'''\n",
    "\n",
    "# validation_data\n",
    "'''   The image that has to be tested by the model is passed'''\n",
    "\n",
    "# validation_steps\n",
    "'''   The validation_steps asks us how many images has to be tested for each trained images of steps_per_epoch'''\n",
    "\n",
    "# epochs\n",
    "'''   How many times the model has to be trained and tested has to be given in this argument'''\n",
    "\n",
    "# How the arguments totally works together\n",
    "'''   for each 'epochs' the 'steps_per_epoch' amount of image is trained \n",
    "      and for that trained amount of images 'validation_steps' amount of of images from the testing data is tested.'''\n",
    "\n",
    "'''   In My Case:\n",
    "        x_train is the training dataset\n",
    "        The epochs size  =30\n",
    "        steps_per_epoch  =1495/32=46\n",
    "        validation_data  =x_test(Tested dataset)\n",
    "        validation_steps =20\n",
    "        epochs           =30 '''\n",
    "\n",
    "'''   for each epochs of given 30 epochs 46(steps_per_epoch) images are trained to the model from the training dataset\n",
    "      and for that trained amount of images 20(validation_steps) images from the testing dataset is tested\n",
    "      and accuracy is given for each epochs of the given (30) epochs'''"
   ]
  },
  {
   "cell_type": "markdown",
   "metadata": {},
   "source": [
    "### Saving The Model"
   ]
  },
  {
   "cell_type": "code",
   "execution_count": 15,
   "metadata": {},
   "outputs": [],
   "source": [
    "model.save('Animal Prediction.model')"
   ]
  }
 ],
 "metadata": {
  "kernelspec": {
   "display_name": "Python 3",
   "language": "python",
   "name": "python3"
  },
  "language_info": {
   "codemirror_mode": {
    "name": "ipython",
    "version": 3
   },
   "file_extension": ".py",
   "mimetype": "text/x-python",
   "name": "python",
   "nbconvert_exporter": "python",
   "pygments_lexer": "ipython3",
   "version": "3.7.6"
  }
 },
 "nbformat": 4,
 "nbformat_minor": 4
}
