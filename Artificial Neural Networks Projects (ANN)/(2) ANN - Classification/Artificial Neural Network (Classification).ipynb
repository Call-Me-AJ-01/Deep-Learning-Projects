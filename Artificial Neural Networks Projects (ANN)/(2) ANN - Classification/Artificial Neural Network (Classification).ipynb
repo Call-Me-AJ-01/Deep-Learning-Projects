{
 "cells": [
  {
   "cell_type": "markdown",
   "metadata": {},
   "source": [
    "### Package To Read The Dataset "
   ]
  },
  {
   "cell_type": "code",
   "execution_count": 1,
   "metadata": {},
   "outputs": [],
   "source": [
    "import pandas as pd"
   ]
  },
  {
   "cell_type": "markdown",
   "metadata": {},
   "source": [
    "### Reading The Dataset"
   ]
  },
  {
   "cell_type": "code",
   "execution_count": 2,
   "metadata": {},
   "outputs": [
    {
     "data": {
      "text/html": [
       "<div>\n",
       "<style scoped>\n",
       "    .dataframe tbody tr th:only-of-type {\n",
       "        vertical-align: middle;\n",
       "    }\n",
       "\n",
       "    .dataframe tbody tr th {\n",
       "        vertical-align: top;\n",
       "    }\n",
       "\n",
       "    .dataframe thead th {\n",
       "        text-align: right;\n",
       "    }\n",
       "</style>\n",
       "<table border=\"1\" class=\"dataframe\">\n",
       "  <thead>\n",
       "    <tr style=\"text-align: right;\">\n",
       "      <th></th>\n",
       "      <th>RowNumber</th>\n",
       "      <th>CustomerId</th>\n",
       "      <th>Surname</th>\n",
       "      <th>CreditScore</th>\n",
       "      <th>Geography</th>\n",
       "      <th>Gender</th>\n",
       "      <th>Age</th>\n",
       "      <th>Tenure</th>\n",
       "      <th>Balance</th>\n",
       "      <th>NumOfProducts</th>\n",
       "      <th>HasCrCard</th>\n",
       "      <th>IsActiveMember</th>\n",
       "      <th>EstimatedSalary</th>\n",
       "      <th>Exited</th>\n",
       "    </tr>\n",
       "  </thead>\n",
       "  <tbody>\n",
       "    <tr>\n",
       "      <th>0</th>\n",
       "      <td>1</td>\n",
       "      <td>15634602</td>\n",
       "      <td>Hargrave</td>\n",
       "      <td>619</td>\n",
       "      <td>France</td>\n",
       "      <td>Female</td>\n",
       "      <td>42.0</td>\n",
       "      <td>2</td>\n",
       "      <td>0.00</td>\n",
       "      <td>1</td>\n",
       "      <td>1</td>\n",
       "      <td>1</td>\n",
       "      <td>101348.88</td>\n",
       "      <td>1</td>\n",
       "    </tr>\n",
       "    <tr>\n",
       "      <th>1</th>\n",
       "      <td>2</td>\n",
       "      <td>15647311</td>\n",
       "      <td>Hill</td>\n",
       "      <td>225</td>\n",
       "      <td>NaN</td>\n",
       "      <td>Female</td>\n",
       "      <td>41.0</td>\n",
       "      <td>1</td>\n",
       "      <td>83807.86</td>\n",
       "      <td>1</td>\n",
       "      <td>0</td>\n",
       "      <td>1</td>\n",
       "      <td>112542.58</td>\n",
       "      <td>0</td>\n",
       "    </tr>\n",
       "    <tr>\n",
       "      <th>2</th>\n",
       "      <td>3</td>\n",
       "      <td>15619304</td>\n",
       "      <td>Onio</td>\n",
       "      <td>629</td>\n",
       "      <td>France</td>\n",
       "      <td>Female</td>\n",
       "      <td>42.0</td>\n",
       "      <td>8</td>\n",
       "      <td>159660.80</td>\n",
       "      <td>3</td>\n",
       "      <td>1</td>\n",
       "      <td>0</td>\n",
       "      <td>113931.57</td>\n",
       "      <td>1</td>\n",
       "    </tr>\n",
       "    <tr>\n",
       "      <th>3</th>\n",
       "      <td>4</td>\n",
       "      <td>15701354</td>\n",
       "      <td>Boni</td>\n",
       "      <td>699</td>\n",
       "      <td>France</td>\n",
       "      <td>Female</td>\n",
       "      <td>39.0</td>\n",
       "      <td>1</td>\n",
       "      <td>0.00</td>\n",
       "      <td>2</td>\n",
       "      <td>0</td>\n",
       "      <td>0</td>\n",
       "      <td>93826.63</td>\n",
       "      <td>0</td>\n",
       "    </tr>\n",
       "    <tr>\n",
       "      <th>4</th>\n",
       "      <td>5</td>\n",
       "      <td>15737888</td>\n",
       "      <td>Mitchell</td>\n",
       "      <td>850</td>\n",
       "      <td>Spain</td>\n",
       "      <td>Female</td>\n",
       "      <td>43.0</td>\n",
       "      <td>2</td>\n",
       "      <td>125510.82</td>\n",
       "      <td>1</td>\n",
       "      <td>1</td>\n",
       "      <td>1</td>\n",
       "      <td>79084.10</td>\n",
       "      <td>0</td>\n",
       "    </tr>\n",
       "    <tr>\n",
       "      <th>...</th>\n",
       "      <td>...</td>\n",
       "      <td>...</td>\n",
       "      <td>...</td>\n",
       "      <td>...</td>\n",
       "      <td>...</td>\n",
       "      <td>...</td>\n",
       "      <td>...</td>\n",
       "      <td>...</td>\n",
       "      <td>...</td>\n",
       "      <td>...</td>\n",
       "      <td>...</td>\n",
       "      <td>...</td>\n",
       "      <td>...</td>\n",
       "      <td>...</td>\n",
       "    </tr>\n",
       "    <tr>\n",
       "      <th>9995</th>\n",
       "      <td>9996</td>\n",
       "      <td>15606229</td>\n",
       "      <td>Obijiaku</td>\n",
       "      <td>771</td>\n",
       "      <td>France</td>\n",
       "      <td>Male</td>\n",
       "      <td>39.0</td>\n",
       "      <td>5</td>\n",
       "      <td>0.00</td>\n",
       "      <td>2</td>\n",
       "      <td>1</td>\n",
       "      <td>0</td>\n",
       "      <td>96270.64</td>\n",
       "      <td>0</td>\n",
       "    </tr>\n",
       "    <tr>\n",
       "      <th>9996</th>\n",
       "      <td>9997</td>\n",
       "      <td>15569892</td>\n",
       "      <td>Johnstone</td>\n",
       "      <td>516</td>\n",
       "      <td>France</td>\n",
       "      <td>Male</td>\n",
       "      <td>35.0</td>\n",
       "      <td>10</td>\n",
       "      <td>57369.61</td>\n",
       "      <td>1</td>\n",
       "      <td>1</td>\n",
       "      <td>1</td>\n",
       "      <td>101699.77</td>\n",
       "      <td>0</td>\n",
       "    </tr>\n",
       "    <tr>\n",
       "      <th>9997</th>\n",
       "      <td>9998</td>\n",
       "      <td>15584532</td>\n",
       "      <td>Liu</td>\n",
       "      <td>709</td>\n",
       "      <td>France</td>\n",
       "      <td>Female</td>\n",
       "      <td>36.0</td>\n",
       "      <td>7</td>\n",
       "      <td>0.00</td>\n",
       "      <td>1</td>\n",
       "      <td>0</td>\n",
       "      <td>1</td>\n",
       "      <td>42085.58</td>\n",
       "      <td>1</td>\n",
       "    </tr>\n",
       "    <tr>\n",
       "      <th>9998</th>\n",
       "      <td>9999</td>\n",
       "      <td>15682355</td>\n",
       "      <td>Sabbatini</td>\n",
       "      <td>772</td>\n",
       "      <td>Germany</td>\n",
       "      <td>Male</td>\n",
       "      <td>42.0</td>\n",
       "      <td>3</td>\n",
       "      <td>75075.31</td>\n",
       "      <td>2</td>\n",
       "      <td>1</td>\n",
       "      <td>0</td>\n",
       "      <td>92888.52</td>\n",
       "      <td>1</td>\n",
       "    </tr>\n",
       "    <tr>\n",
       "      <th>9999</th>\n",
       "      <td>10000</td>\n",
       "      <td>15628319</td>\n",
       "      <td>Walker</td>\n",
       "      <td>792</td>\n",
       "      <td>France</td>\n",
       "      <td>Female</td>\n",
       "      <td>28.0</td>\n",
       "      <td>4</td>\n",
       "      <td>130142.79</td>\n",
       "      <td>1</td>\n",
       "      <td>1</td>\n",
       "      <td>0</td>\n",
       "      <td>38190.78</td>\n",
       "      <td>0</td>\n",
       "    </tr>\n",
       "  </tbody>\n",
       "</table>\n",
       "<p>10000 rows × 14 columns</p>\n",
       "</div>"
      ],
      "text/plain": [
       "      RowNumber  CustomerId    Surname  CreditScore Geography  Gender   Age  \\\n",
       "0             1    15634602   Hargrave          619    France  Female  42.0   \n",
       "1             2    15647311       Hill          225       NaN  Female  41.0   \n",
       "2             3    15619304       Onio          629    France  Female  42.0   \n",
       "3             4    15701354       Boni          699    France  Female  39.0   \n",
       "4             5    15737888   Mitchell          850     Spain  Female  43.0   \n",
       "...         ...         ...        ...          ...       ...     ...   ...   \n",
       "9995       9996    15606229   Obijiaku          771    France    Male  39.0   \n",
       "9996       9997    15569892  Johnstone          516    France    Male  35.0   \n",
       "9997       9998    15584532        Liu          709    France  Female  36.0   \n",
       "9998       9999    15682355  Sabbatini          772   Germany    Male  42.0   \n",
       "9999      10000    15628319     Walker          792    France  Female  28.0   \n",
       "\n",
       "      Tenure    Balance  NumOfProducts  HasCrCard  IsActiveMember  \\\n",
       "0          2       0.00              1          1               1   \n",
       "1          1   83807.86              1          0               1   \n",
       "2          8  159660.80              3          1               0   \n",
       "3          1       0.00              2          0               0   \n",
       "4          2  125510.82              1          1               1   \n",
       "...      ...        ...            ...        ...             ...   \n",
       "9995       5       0.00              2          1               0   \n",
       "9996      10   57369.61              1          1               1   \n",
       "9997       7       0.00              1          0               1   \n",
       "9998       3   75075.31              2          1               0   \n",
       "9999       4  130142.79              1          1               0   \n",
       "\n",
       "      EstimatedSalary  Exited  \n",
       "0           101348.88       1  \n",
       "1           112542.58       0  \n",
       "2           113931.57       1  \n",
       "3            93826.63       0  \n",
       "4            79084.10       0  \n",
       "...               ...     ...  \n",
       "9995         96270.64       0  \n",
       "9996        101699.77       0  \n",
       "9997         42085.58       1  \n",
       "9998         92888.52       1  \n",
       "9999         38190.78       0  \n",
       "\n",
       "[10000 rows x 14 columns]"
      ]
     },
     "execution_count": 2,
     "metadata": {},
     "output_type": "execute_result"
    }
   ],
   "source": [
    "data=pd.read_csv('Churn_Modelling.csv')\n",
    "data"
   ]
  },
  {
   "cell_type": "markdown",
   "metadata": {},
   "source": [
    "### Checking For Null Values"
   ]
  },
  {
   "cell_type": "code",
   "execution_count": 3,
   "metadata": {},
   "outputs": [
    {
     "data": {
      "text/plain": [
       "RowNumber          False\n",
       "CustomerId         False\n",
       "Surname            False\n",
       "CreditScore        False\n",
       "Geography           True\n",
       "Gender              True\n",
       "Age                 True\n",
       "Tenure             False\n",
       "Balance            False\n",
       "NumOfProducts      False\n",
       "HasCrCard          False\n",
       "IsActiveMember     False\n",
       "EstimatedSalary    False\n",
       "Exited             False\n",
       "dtype: bool"
      ]
     },
     "execution_count": 3,
     "metadata": {},
     "output_type": "execute_result"
    }
   ],
   "source": [
    "data.isnull().any()"
   ]
  },
  {
   "cell_type": "markdown",
   "metadata": {},
   "source": [
    "### Counting The Null Values"
   ]
  },
  {
   "cell_type": "code",
   "execution_count": 4,
   "metadata": {},
   "outputs": [
    {
     "data": {
      "text/plain": [
       "RowNumber          0\n",
       "CustomerId         0\n",
       "Surname            0\n",
       "CreditScore        0\n",
       "Geography          1\n",
       "Gender             1\n",
       "Age                1\n",
       "Tenure             0\n",
       "Balance            0\n",
       "NumOfProducts      0\n",
       "HasCrCard          0\n",
       "IsActiveMember     0\n",
       "EstimatedSalary    0\n",
       "Exited             0\n",
       "dtype: int64"
      ]
     },
     "execution_count": 4,
     "metadata": {},
     "output_type": "execute_result"
    }
   ],
   "source": [
    "data.isnull().sum()"
   ]
  },
  {
   "cell_type": "markdown",
   "metadata": {},
   "source": [
    "### Filling The Null Values"
   ]
  },
  {
   "cell_type": "code",
   "execution_count": 5,
   "metadata": {},
   "outputs": [],
   "source": [
    "data['Geography'].fillna(data['Geography'].mode()[0],inplace=True)\n",
    "data['Gender'].fillna(data['Gender'].mode()[0],inplace=True)\n",
    "data['Age'].fillna(data['Age'].mean(),inplace=True)"
   ]
  },
  {
   "cell_type": "code",
   "execution_count": 6,
   "metadata": {},
   "outputs": [
    {
     "data": {
      "text/plain": [
       "RowNumber          0\n",
       "CustomerId         0\n",
       "Surname            0\n",
       "CreditScore        0\n",
       "Geography          0\n",
       "Gender             0\n",
       "Age                0\n",
       "Tenure             0\n",
       "Balance            0\n",
       "NumOfProducts      0\n",
       "HasCrCard          0\n",
       "IsActiveMember     0\n",
       "EstimatedSalary    0\n",
       "Exited             0\n",
       "dtype: int64"
      ]
     },
     "execution_count": 6,
     "metadata": {},
     "output_type": "execute_result"
    }
   ],
   "source": [
    "data.isnull().sum()"
   ]
  },
  {
   "cell_type": "code",
   "execution_count": 7,
   "metadata": {},
   "outputs": [
    {
     "data": {
      "text/html": [
       "<div>\n",
       "<style scoped>\n",
       "    .dataframe tbody tr th:only-of-type {\n",
       "        vertical-align: middle;\n",
       "    }\n",
       "\n",
       "    .dataframe tbody tr th {\n",
       "        vertical-align: top;\n",
       "    }\n",
       "\n",
       "    .dataframe thead th {\n",
       "        text-align: right;\n",
       "    }\n",
       "</style>\n",
       "<table border=\"1\" class=\"dataframe\">\n",
       "  <thead>\n",
       "    <tr style=\"text-align: right;\">\n",
       "      <th></th>\n",
       "      <th>RowNumber</th>\n",
       "      <th>CustomerId</th>\n",
       "      <th>Surname</th>\n",
       "      <th>CreditScore</th>\n",
       "      <th>Geography</th>\n",
       "      <th>Gender</th>\n",
       "      <th>Age</th>\n",
       "      <th>Tenure</th>\n",
       "      <th>Balance</th>\n",
       "      <th>NumOfProducts</th>\n",
       "      <th>HasCrCard</th>\n",
       "      <th>IsActiveMember</th>\n",
       "      <th>EstimatedSalary</th>\n",
       "      <th>Exited</th>\n",
       "    </tr>\n",
       "  </thead>\n",
       "  <tbody>\n",
       "    <tr>\n",
       "      <th>0</th>\n",
       "      <td>1</td>\n",
       "      <td>15634602</td>\n",
       "      <td>Hargrave</td>\n",
       "      <td>619</td>\n",
       "      <td>France</td>\n",
       "      <td>Female</td>\n",
       "      <td>42.0</td>\n",
       "      <td>2</td>\n",
       "      <td>0.00</td>\n",
       "      <td>1</td>\n",
       "      <td>1</td>\n",
       "      <td>1</td>\n",
       "      <td>101348.88</td>\n",
       "      <td>1</td>\n",
       "    </tr>\n",
       "    <tr>\n",
       "      <th>1</th>\n",
       "      <td>2</td>\n",
       "      <td>15647311</td>\n",
       "      <td>Hill</td>\n",
       "      <td>225</td>\n",
       "      <td>France</td>\n",
       "      <td>Female</td>\n",
       "      <td>41.0</td>\n",
       "      <td>1</td>\n",
       "      <td>83807.86</td>\n",
       "      <td>1</td>\n",
       "      <td>0</td>\n",
       "      <td>1</td>\n",
       "      <td>112542.58</td>\n",
       "      <td>0</td>\n",
       "    </tr>\n",
       "    <tr>\n",
       "      <th>2</th>\n",
       "      <td>3</td>\n",
       "      <td>15619304</td>\n",
       "      <td>Onio</td>\n",
       "      <td>629</td>\n",
       "      <td>France</td>\n",
       "      <td>Female</td>\n",
       "      <td>42.0</td>\n",
       "      <td>8</td>\n",
       "      <td>159660.80</td>\n",
       "      <td>3</td>\n",
       "      <td>1</td>\n",
       "      <td>0</td>\n",
       "      <td>113931.57</td>\n",
       "      <td>1</td>\n",
       "    </tr>\n",
       "    <tr>\n",
       "      <th>3</th>\n",
       "      <td>4</td>\n",
       "      <td>15701354</td>\n",
       "      <td>Boni</td>\n",
       "      <td>699</td>\n",
       "      <td>France</td>\n",
       "      <td>Female</td>\n",
       "      <td>39.0</td>\n",
       "      <td>1</td>\n",
       "      <td>0.00</td>\n",
       "      <td>2</td>\n",
       "      <td>0</td>\n",
       "      <td>0</td>\n",
       "      <td>93826.63</td>\n",
       "      <td>0</td>\n",
       "    </tr>\n",
       "    <tr>\n",
       "      <th>4</th>\n",
       "      <td>5</td>\n",
       "      <td>15737888</td>\n",
       "      <td>Mitchell</td>\n",
       "      <td>850</td>\n",
       "      <td>Spain</td>\n",
       "      <td>Female</td>\n",
       "      <td>43.0</td>\n",
       "      <td>2</td>\n",
       "      <td>125510.82</td>\n",
       "      <td>1</td>\n",
       "      <td>1</td>\n",
       "      <td>1</td>\n",
       "      <td>79084.10</td>\n",
       "      <td>0</td>\n",
       "    </tr>\n",
       "    <tr>\n",
       "      <th>...</th>\n",
       "      <td>...</td>\n",
       "      <td>...</td>\n",
       "      <td>...</td>\n",
       "      <td>...</td>\n",
       "      <td>...</td>\n",
       "      <td>...</td>\n",
       "      <td>...</td>\n",
       "      <td>...</td>\n",
       "      <td>...</td>\n",
       "      <td>...</td>\n",
       "      <td>...</td>\n",
       "      <td>...</td>\n",
       "      <td>...</td>\n",
       "      <td>...</td>\n",
       "    </tr>\n",
       "    <tr>\n",
       "      <th>9995</th>\n",
       "      <td>9996</td>\n",
       "      <td>15606229</td>\n",
       "      <td>Obijiaku</td>\n",
       "      <td>771</td>\n",
       "      <td>France</td>\n",
       "      <td>Male</td>\n",
       "      <td>39.0</td>\n",
       "      <td>5</td>\n",
       "      <td>0.00</td>\n",
       "      <td>2</td>\n",
       "      <td>1</td>\n",
       "      <td>0</td>\n",
       "      <td>96270.64</td>\n",
       "      <td>0</td>\n",
       "    </tr>\n",
       "    <tr>\n",
       "      <th>9996</th>\n",
       "      <td>9997</td>\n",
       "      <td>15569892</td>\n",
       "      <td>Johnstone</td>\n",
       "      <td>516</td>\n",
       "      <td>France</td>\n",
       "      <td>Male</td>\n",
       "      <td>35.0</td>\n",
       "      <td>10</td>\n",
       "      <td>57369.61</td>\n",
       "      <td>1</td>\n",
       "      <td>1</td>\n",
       "      <td>1</td>\n",
       "      <td>101699.77</td>\n",
       "      <td>0</td>\n",
       "    </tr>\n",
       "    <tr>\n",
       "      <th>9997</th>\n",
       "      <td>9998</td>\n",
       "      <td>15584532</td>\n",
       "      <td>Liu</td>\n",
       "      <td>709</td>\n",
       "      <td>France</td>\n",
       "      <td>Female</td>\n",
       "      <td>36.0</td>\n",
       "      <td>7</td>\n",
       "      <td>0.00</td>\n",
       "      <td>1</td>\n",
       "      <td>0</td>\n",
       "      <td>1</td>\n",
       "      <td>42085.58</td>\n",
       "      <td>1</td>\n",
       "    </tr>\n",
       "    <tr>\n",
       "      <th>9998</th>\n",
       "      <td>9999</td>\n",
       "      <td>15682355</td>\n",
       "      <td>Sabbatini</td>\n",
       "      <td>772</td>\n",
       "      <td>Germany</td>\n",
       "      <td>Male</td>\n",
       "      <td>42.0</td>\n",
       "      <td>3</td>\n",
       "      <td>75075.31</td>\n",
       "      <td>2</td>\n",
       "      <td>1</td>\n",
       "      <td>0</td>\n",
       "      <td>92888.52</td>\n",
       "      <td>1</td>\n",
       "    </tr>\n",
       "    <tr>\n",
       "      <th>9999</th>\n",
       "      <td>10000</td>\n",
       "      <td>15628319</td>\n",
       "      <td>Walker</td>\n",
       "      <td>792</td>\n",
       "      <td>France</td>\n",
       "      <td>Female</td>\n",
       "      <td>28.0</td>\n",
       "      <td>4</td>\n",
       "      <td>130142.79</td>\n",
       "      <td>1</td>\n",
       "      <td>1</td>\n",
       "      <td>0</td>\n",
       "      <td>38190.78</td>\n",
       "      <td>0</td>\n",
       "    </tr>\n",
       "  </tbody>\n",
       "</table>\n",
       "<p>10000 rows × 14 columns</p>\n",
       "</div>"
      ],
      "text/plain": [
       "      RowNumber  CustomerId    Surname  CreditScore Geography  Gender   Age  \\\n",
       "0             1    15634602   Hargrave          619    France  Female  42.0   \n",
       "1             2    15647311       Hill          225    France  Female  41.0   \n",
       "2             3    15619304       Onio          629    France  Female  42.0   \n",
       "3             4    15701354       Boni          699    France  Female  39.0   \n",
       "4             5    15737888   Mitchell          850     Spain  Female  43.0   \n",
       "...         ...         ...        ...          ...       ...     ...   ...   \n",
       "9995       9996    15606229   Obijiaku          771    France    Male  39.0   \n",
       "9996       9997    15569892  Johnstone          516    France    Male  35.0   \n",
       "9997       9998    15584532        Liu          709    France  Female  36.0   \n",
       "9998       9999    15682355  Sabbatini          772   Germany    Male  42.0   \n",
       "9999      10000    15628319     Walker          792    France  Female  28.0   \n",
       "\n",
       "      Tenure    Balance  NumOfProducts  HasCrCard  IsActiveMember  \\\n",
       "0          2       0.00              1          1               1   \n",
       "1          1   83807.86              1          0               1   \n",
       "2          8  159660.80              3          1               0   \n",
       "3          1       0.00              2          0               0   \n",
       "4          2  125510.82              1          1               1   \n",
       "...      ...        ...            ...        ...             ...   \n",
       "9995       5       0.00              2          1               0   \n",
       "9996      10   57369.61              1          1               1   \n",
       "9997       7       0.00              1          0               1   \n",
       "9998       3   75075.31              2          1               0   \n",
       "9999       4  130142.79              1          1               0   \n",
       "\n",
       "      EstimatedSalary  Exited  \n",
       "0           101348.88       1  \n",
       "1           112542.58       0  \n",
       "2           113931.57       1  \n",
       "3            93826.63       0  \n",
       "4            79084.10       0  \n",
       "...               ...     ...  \n",
       "9995         96270.64       0  \n",
       "9996        101699.77       0  \n",
       "9997         42085.58       1  \n",
       "9998         92888.52       1  \n",
       "9999         38190.78       0  \n",
       "\n",
       "[10000 rows x 14 columns]"
      ]
     },
     "execution_count": 7,
     "metadata": {},
     "output_type": "execute_result"
    }
   ],
   "source": [
    "data"
   ]
  },
  {
   "cell_type": "markdown",
   "metadata": {},
   "source": [
    "### Seperating Dependent and Independent Variable"
   ]
  },
  {
   "cell_type": "code",
   "execution_count": 8,
   "metadata": {},
   "outputs": [],
   "source": [
    "x=data.iloc[:,3:13].values\n",
    "y=data.iloc[:,-1].values"
   ]
  },
  {
   "cell_type": "code",
   "execution_count": 9,
   "metadata": {},
   "outputs": [
    {
     "data": {
      "text/plain": [
       "array([[619, 'France', 'Female', ..., 1, 1, 101348.88],\n",
       "       [225, 'France', 'Female', ..., 0, 1, 112542.58],\n",
       "       [629, 'France', 'Female', ..., 1, 0, 113931.57],\n",
       "       ...,\n",
       "       [709, 'France', 'Female', ..., 0, 1, 42085.58],\n",
       "       [772, 'Germany', 'Male', ..., 1, 0, 92888.52],\n",
       "       [792, 'France', 'Female', ..., 1, 0, 38190.78]], dtype=object)"
      ]
     },
     "execution_count": 9,
     "metadata": {},
     "output_type": "execute_result"
    }
   ],
   "source": [
    "x"
   ]
  },
  {
   "cell_type": "code",
   "execution_count": 10,
   "metadata": {},
   "outputs": [
    {
     "data": {
      "text/plain": [
       "array([1, 0, 1, ..., 1, 1, 0], dtype=int64)"
      ]
     },
     "execution_count": 10,
     "metadata": {},
     "output_type": "execute_result"
    }
   ],
   "source": [
    "y"
   ]
  },
  {
   "cell_type": "markdown",
   "metadata": {},
   "source": [
    "### To Know The Different Type Of Values Available On A Particular Column"
   ]
  },
  {
   "cell_type": "code",
   "execution_count": 11,
   "metadata": {},
   "outputs": [
    {
     "data": {
      "text/plain": [
       "France     5015\n",
       "Germany    2509\n",
       "Spain      2476\n",
       "Name: Geography, dtype: int64"
      ]
     },
     "execution_count": 11,
     "metadata": {},
     "output_type": "execute_result"
    }
   ],
   "source": [
    "data['Geography'].value_counts()"
   ]
  },
  {
   "cell_type": "markdown",
   "metadata": {},
   "source": [
    "### Using OneHot Encoder and Column Transformer To Convert Characters To Numbers"
   ]
  },
  {
   "cell_type": "code",
   "execution_count": 12,
   "metadata": {},
   "outputs": [],
   "source": [
    "from sklearn.preprocessing import OneHotEncoder\n",
    "from sklearn.compose import ColumnTransformer"
   ]
  },
  {
   "cell_type": "code",
   "execution_count": 13,
   "metadata": {},
   "outputs": [],
   "source": [
    "col_trans=ColumnTransformer([('aj',OneHotEncoder(),[2])],remainder='passthrough')\n",
    "x=col_trans.fit_transform(x)"
   ]
  },
  {
   "cell_type": "code",
   "execution_count": 14,
   "metadata": {},
   "outputs": [
    {
     "data": {
      "text/plain": [
       "array([1.0, 0.0, 619, 'France', 42.0, 2, 0.0, 1, 1, 1, 101348.88],\n",
       "      dtype=object)"
      ]
     },
     "execution_count": 14,
     "metadata": {},
     "output_type": "execute_result"
    }
   ],
   "source": [
    "x[0]"
   ]
  },
  {
   "cell_type": "code",
   "execution_count": 15,
   "metadata": {},
   "outputs": [],
   "source": [
    "col_trans=ColumnTransformer([('aj',OneHotEncoder(),[3])],remainder='passthrough')\n",
    "x=col_trans.fit_transform(x)"
   ]
  },
  {
   "cell_type": "code",
   "execution_count": 16,
   "metadata": {},
   "outputs": [
    {
     "data": {
      "text/plain": [
       "array([1.0, 0.0, 0.0, 1.0, 0.0, 619, 42.0, 2, 0.0, 1, 1, 1, 101348.88],\n",
       "      dtype=object)"
      ]
     },
     "execution_count": 16,
     "metadata": {},
     "output_type": "execute_result"
    }
   ],
   "source": [
    "x[0]"
   ]
  },
  {
   "cell_type": "code",
   "execution_count": 17,
   "metadata": {},
   "outputs": [
    {
     "data": {
      "text/plain": [
       "array([1.0, 0.0, 0.0, 1.0, 0.0, 619, 42.0, 2, 0.0, 1, 1, 1, 101348.88],\n",
       "      dtype=object)"
      ]
     },
     "execution_count": 17,
     "metadata": {},
     "output_type": "execute_result"
    }
   ],
   "source": [
    "x[0,:]"
   ]
  },
  {
   "cell_type": "markdown",
   "metadata": {},
   "source": [
    "### Using Standard Scalar"
   ]
  },
  {
   "cell_type": "code",
   "execution_count": 18,
   "metadata": {},
   "outputs": [],
   "source": [
    "from sklearn.preprocessing import StandardScaler"
   ]
  },
  {
   "cell_type": "code",
   "execution_count": 19,
   "metadata": {},
   "outputs": [
    {
     "data": {
      "text/plain": [
       "array([[ 0.99700449, -0.57873591, -0.57365519, ...,  0.64609167,\n",
       "         0.97024255,  0.02188649],\n",
       "       [ 0.99700449, -0.57873591, -0.57365519, ..., -1.54776799,\n",
       "         0.97024255,  0.21653375],\n",
       "       [ 0.99700449, -0.57873591, -0.57365519, ...,  0.64609167,\n",
       "        -1.03067011,  0.2406869 ],\n",
       "       ...,\n",
       "       [ 0.99700449, -0.57873591, -0.57365519, ..., -1.54776799,\n",
       "         0.97024255, -1.00864308],\n",
       "       [-1.00300451,  1.72790383, -0.57365519, ...,  0.64609167,\n",
       "        -1.03067011, -0.12523071],\n",
       "       [ 0.99700449, -0.57873591, -0.57365519, ...,  0.64609167,\n",
       "        -1.03067011, -1.07636976]])"
      ]
     },
     "execution_count": 19,
     "metadata": {},
     "output_type": "execute_result"
    }
   ],
   "source": [
    "std_sca=StandardScaler()\n",
    "x=std_sca.fit_transform(x)\n",
    "x"
   ]
  },
  {
   "cell_type": "code",
   "execution_count": 20,
   "metadata": {},
   "outputs": [
    {
     "data": {
      "text/plain": [
       "array([1, 0, 1, ..., 1, 1, 0], dtype=int64)"
      ]
     },
     "execution_count": 20,
     "metadata": {},
     "output_type": "execute_result"
    }
   ],
   "source": [
    "y"
   ]
  },
  {
   "cell_type": "markdown",
   "metadata": {},
   "source": [
    "### Splitting Data's For Training and Testing Purpose"
   ]
  },
  {
   "cell_type": "code",
   "execution_count": 21,
   "metadata": {},
   "outputs": [],
   "source": [
    "from sklearn.model_selection import train_test_split\n",
    "x_train,x_test,y_train,y_test=train_test_split(x,y,test_size=0.3,random_state=0)"
   ]
  },
  {
   "cell_type": "code",
   "execution_count": 22,
   "metadata": {},
   "outputs": [
    {
     "data": {
      "text/plain": [
       "array([[ 0.99700449, -0.57873591, -0.57365519, ...,  0.64609167,\n",
       "         0.97024255, -0.77021814],\n",
       "       [ 0.99700449, -0.57873591, -0.57365519, ...,  0.64609167,\n",
       "        -1.03067011, -1.39576675],\n",
       "       [ 0.99700449, -0.57873591, -0.57365519, ..., -1.54776799,\n",
       "         0.97024255, -1.49965629],\n",
       "       ...,\n",
       "       [ 0.99700449, -0.57873591, -0.57365519, ...,  0.64609167,\n",
       "        -1.03067011,  1.41441489],\n",
       "       [-1.00300451, -0.57873591,  1.74320745, ...,  0.64609167,\n",
       "         0.97024255,  0.84614739],\n",
       "       [-1.00300451,  1.72790383, -0.57365519, ...,  0.64609167,\n",
       "        -1.03067011,  0.32630495]])"
      ]
     },
     "execution_count": 22,
     "metadata": {},
     "output_type": "execute_result"
    }
   ],
   "source": [
    "x_train"
   ]
  },
  {
   "cell_type": "code",
   "execution_count": 23,
   "metadata": {},
   "outputs": [
    {
     "data": {
      "text/plain": [
       "array([1, 0, 0, ..., 0, 0, 1], dtype=int64)"
      ]
     },
     "execution_count": 23,
     "metadata": {},
     "output_type": "execute_result"
    }
   ],
   "source": [
    "y_train"
   ]
  },
  {
   "cell_type": "code",
   "execution_count": 24,
   "metadata": {},
   "outputs": [
    {
     "data": {
      "text/plain": [
       "array([[-1.00300451,  1.72790383, -0.57365519, ...,  0.64609167,\n",
       "         0.97024255,  1.61304597],\n",
       "       [ 0.99700449, -0.57873591, -0.57365519, ...,  0.64609167,\n",
       "        -1.03067011,  0.49753166],\n",
       "       [-1.00300451, -0.57873591,  1.74320745, ...,  0.64609167,\n",
       "         0.97024255, -0.4235611 ],\n",
       "       ...,\n",
       "       [ 0.99700449, -0.57873591, -0.57365519, ...,  0.64609167,\n",
       "         0.97024255,  1.17045451],\n",
       "       [ 0.99700449, -0.57873591, -0.57365519, ...,  0.64609167,\n",
       "         0.97024255, -0.50846777],\n",
       "       [-1.00300451,  1.72790383, -0.57365519, ...,  0.64609167,\n",
       "         0.97024255, -1.15342685]])"
      ]
     },
     "execution_count": 24,
     "metadata": {},
     "output_type": "execute_result"
    }
   ],
   "source": [
    "x_test"
   ]
  },
  {
   "cell_type": "code",
   "execution_count": 25,
   "metadata": {
    "scrolled": true
   },
   "outputs": [
    {
     "data": {
      "text/plain": [
       "array([0, 1, 0, ..., 0, 0, 1], dtype=int64)"
      ]
     },
     "execution_count": 25,
     "metadata": {},
     "output_type": "execute_result"
    }
   ],
   "source": [
    "y_test"
   ]
  },
  {
   "cell_type": "markdown",
   "metadata": {},
   "source": [
    "### Using Standard Scalar"
   ]
  },
  {
   "cell_type": "code",
   "execution_count": 26,
   "metadata": {},
   "outputs": [],
   "source": [
    "from sklearn.preprocessing import StandardScaler"
   ]
  },
  {
   "cell_type": "code",
   "execution_count": 27,
   "metadata": {},
   "outputs": [],
   "source": [
    "std_sca=StandardScaler()\n",
    "x_train=std_sca.fit_transform(x_train)\n",
    "x_test=std_sca.fit_transform(x_test)"
   ]
  },
  {
   "cell_type": "code",
   "execution_count": 28,
   "metadata": {},
   "outputs": [
    {
     "data": {
      "text/plain": [
       "array([1, 0, 1, ..., 1, 1, 0], dtype=int64)"
      ]
     },
     "execution_count": 28,
     "metadata": {},
     "output_type": "execute_result"
    }
   ],
   "source": [
    "y"
   ]
  },
  {
   "cell_type": "markdown",
   "metadata": {},
   "source": [
    "### Building The Model"
   ]
  },
  {
   "cell_type": "markdown",
   "metadata": {},
   "source": [
    "### Since ANN is Sequential This is the Package Used For Building The Model"
   ]
  },
  {
   "cell_type": "code",
   "execution_count": 29,
   "metadata": {
    "scrolled": true
   },
   "outputs": [
    {
     "name": "stderr",
     "output_type": "stream",
     "text": [
      "Using TensorFlow backend.\n",
      "C:\\Users\\Admin\\anaconda3\\lib\\site-packages\\tensorflow\\python\\framework\\dtypes.py:516: FutureWarning: Passing (type, 1) or '1type' as a synonym of type is deprecated; in a future version of numpy, it will be understood as (type, (1,)) / '(1,)type'.\n",
      "  _np_qint8 = np.dtype([(\"qint8\", np.int8, 1)])\n",
      "C:\\Users\\Admin\\anaconda3\\lib\\site-packages\\tensorflow\\python\\framework\\dtypes.py:517: FutureWarning: Passing (type, 1) or '1type' as a synonym of type is deprecated; in a future version of numpy, it will be understood as (type, (1,)) / '(1,)type'.\n",
      "  _np_quint8 = np.dtype([(\"quint8\", np.uint8, 1)])\n",
      "C:\\Users\\Admin\\anaconda3\\lib\\site-packages\\tensorflow\\python\\framework\\dtypes.py:518: FutureWarning: Passing (type, 1) or '1type' as a synonym of type is deprecated; in a future version of numpy, it will be understood as (type, (1,)) / '(1,)type'.\n",
      "  _np_qint16 = np.dtype([(\"qint16\", np.int16, 1)])\n",
      "C:\\Users\\Admin\\anaconda3\\lib\\site-packages\\tensorflow\\python\\framework\\dtypes.py:519: FutureWarning: Passing (type, 1) or '1type' as a synonym of type is deprecated; in a future version of numpy, it will be understood as (type, (1,)) / '(1,)type'.\n",
      "  _np_quint16 = np.dtype([(\"quint16\", np.uint16, 1)])\n",
      "C:\\Users\\Admin\\anaconda3\\lib\\site-packages\\tensorflow\\python\\framework\\dtypes.py:520: FutureWarning: Passing (type, 1) or '1type' as a synonym of type is deprecated; in a future version of numpy, it will be understood as (type, (1,)) / '(1,)type'.\n",
      "  _np_qint32 = np.dtype([(\"qint32\", np.int32, 1)])\n",
      "C:\\Users\\Admin\\anaconda3\\lib\\site-packages\\tensorflow\\python\\framework\\dtypes.py:525: FutureWarning: Passing (type, 1) or '1type' as a synonym of type is deprecated; in a future version of numpy, it will be understood as (type, (1,)) / '(1,)type'.\n",
      "  np_resource = np.dtype([(\"resource\", np.ubyte, 1)])\n",
      "C:\\Users\\Admin\\anaconda3\\lib\\site-packages\\tensorboard\\compat\\tensorflow_stub\\dtypes.py:541: FutureWarning: Passing (type, 1) or '1type' as a synonym of type is deprecated; in a future version of numpy, it will be understood as (type, (1,)) / '(1,)type'.\n",
      "  _np_qint8 = np.dtype([(\"qint8\", np.int8, 1)])\n",
      "C:\\Users\\Admin\\anaconda3\\lib\\site-packages\\tensorboard\\compat\\tensorflow_stub\\dtypes.py:542: FutureWarning: Passing (type, 1) or '1type' as a synonym of type is deprecated; in a future version of numpy, it will be understood as (type, (1,)) / '(1,)type'.\n",
      "  _np_quint8 = np.dtype([(\"quint8\", np.uint8, 1)])\n",
      "C:\\Users\\Admin\\anaconda3\\lib\\site-packages\\tensorboard\\compat\\tensorflow_stub\\dtypes.py:543: FutureWarning: Passing (type, 1) or '1type' as a synonym of type is deprecated; in a future version of numpy, it will be understood as (type, (1,)) / '(1,)type'.\n",
      "  _np_qint16 = np.dtype([(\"qint16\", np.int16, 1)])\n",
      "C:\\Users\\Admin\\anaconda3\\lib\\site-packages\\tensorboard\\compat\\tensorflow_stub\\dtypes.py:544: FutureWarning: Passing (type, 1) or '1type' as a synonym of type is deprecated; in a future version of numpy, it will be understood as (type, (1,)) / '(1,)type'.\n",
      "  _np_quint16 = np.dtype([(\"quint16\", np.uint16, 1)])\n",
      "C:\\Users\\Admin\\anaconda3\\lib\\site-packages\\tensorboard\\compat\\tensorflow_stub\\dtypes.py:545: FutureWarning: Passing (type, 1) or '1type' as a synonym of type is deprecated; in a future version of numpy, it will be understood as (type, (1,)) / '(1,)type'.\n",
      "  _np_qint32 = np.dtype([(\"qint32\", np.int32, 1)])\n",
      "C:\\Users\\Admin\\anaconda3\\lib\\site-packages\\tensorboard\\compat\\tensorflow_stub\\dtypes.py:550: FutureWarning: Passing (type, 1) or '1type' as a synonym of type is deprecated; in a future version of numpy, it will be understood as (type, (1,)) / '(1,)type'.\n",
      "  np_resource = np.dtype([(\"resource\", np.ubyte, 1)])\n"
     ]
    }
   ],
   "source": [
    "from keras.models import Sequential"
   ]
  },
  {
   "cell_type": "code",
   "execution_count": 30,
   "metadata": {},
   "outputs": [
    {
     "name": "stdout",
     "output_type": "stream",
     "text": [
      "WARNING:tensorflow:From C:\\Users\\Admin\\anaconda3\\lib\\site-packages\\keras\\backend\\tensorflow_backend.py:74: The name tf.get_default_graph is deprecated. Please use tf.compat.v1.get_default_graph instead.\n",
      "\n"
     ]
    }
   ],
   "source": [
    "model=Sequential()"
   ]
  },
  {
   "cell_type": "markdown",
   "metadata": {},
   "source": [
    "### Adding Input,Hidden, and Output Layers"
   ]
  },
  {
   "cell_type": "markdown",
   "metadata": {},
   "source": [
    "### Package Used For Adding the Layer To The Model"
   ]
  },
  {
   "cell_type": "code",
   "execution_count": 31,
   "metadata": {},
   "outputs": [],
   "source": [
    "from keras.layers import Dense"
   ]
  },
  {
   "cell_type": "code",
   "execution_count": 32,
   "metadata": {},
   "outputs": [],
   "source": [
    "row,column=x_train.shape"
   ]
  },
  {
   "cell_type": "code",
   "execution_count": 33,
   "metadata": {},
   "outputs": [
    {
     "data": {
      "text/plain": [
       "7000"
      ]
     },
     "execution_count": 33,
     "metadata": {},
     "output_type": "execute_result"
    }
   ],
   "source": [
    "row"
   ]
  },
  {
   "cell_type": "code",
   "execution_count": 34,
   "metadata": {},
   "outputs": [
    {
     "data": {
      "text/plain": [
       "13"
      ]
     },
     "execution_count": 34,
     "metadata": {},
     "output_type": "execute_result"
    }
   ],
   "source": [
    "column"
   ]
  },
  {
   "cell_type": "markdown",
   "metadata": {},
   "source": [
    "### Adding Input Layer To The Model"
   ]
  },
  {
   "cell_type": "code",
   "execution_count": 35,
   "metadata": {},
   "outputs": [
    {
     "name": "stderr",
     "output_type": "stream",
     "text": [
      "C:\\Users\\Admin\\anaconda3\\lib\\site-packages\\ipykernel_launcher.py:1: UserWarning: Update your `Dense` call to the Keras 2 API: `Dense(units=13, activation=\"relu\", kernel_initializer=\"random_uniform\")`\n",
      "  \"\"\"Entry point for launching an IPython kernel.\n"
     ]
    }
   ],
   "source": [
    "model.add(Dense(units=column,init='random_uniform',activation='relu'))"
   ]
  },
  {
   "cell_type": "markdown",
   "metadata": {},
   "source": [
    "### Adding Hidden Layer To The Model"
   ]
  },
  {
   "cell_type": "code",
   "execution_count": 36,
   "metadata": {
    "scrolled": true
   },
   "outputs": [
    {
     "name": "stderr",
     "output_type": "stream",
     "text": [
      "C:\\Users\\Admin\\anaconda3\\lib\\site-packages\\ipykernel_launcher.py:2: UserWarning: Update your `Dense` call to the Keras 2 API: `Dense(units=26, activation=\"relu\", kernel_initializer=\"random_uniform\")`\n",
      "  \n"
     ]
    }
   ],
   "source": [
    "# The units for the hidden layer should be either 'no.of columns*2' or 'no.of columns/2'\n",
    "model.add(Dense(units=column*2,init='random_uniform',activation='relu'))"
   ]
  },
  {
   "cell_type": "markdown",
   "metadata": {},
   "source": [
    "### Adding Ouput Layer To The Model"
   ]
  },
  {
   "cell_type": "code",
   "execution_count": 37,
   "metadata": {
    "scrolled": true
   },
   "outputs": [
    {
     "name": "stderr",
     "output_type": "stream",
     "text": [
      "C:\\Users\\Admin\\anaconda3\\lib\\site-packages\\ipykernel_launcher.py:2: UserWarning: Update your `Dense` call to the Keras 2 API: `Dense(units=1, activation=\"sigmoid\", kernel_initializer=\"random_uniform\")`\n",
      "  \n"
     ]
    }
   ],
   "source": [
    "# Since The Output is in the form of classification we use sigmoid activation\n",
    "model.add(Dense(units=1,init='random_uniform',activation='sigmoid'))"
   ]
  },
  {
   "cell_type": "markdown",
   "metadata": {},
   "source": [
    "### Compiling the Model"
   ]
  },
  {
   "cell_type": "code",
   "execution_count": 38,
   "metadata": {},
   "outputs": [
    {
     "name": "stdout",
     "output_type": "stream",
     "text": [
      "WARNING:tensorflow:From C:\\Users\\Admin\\anaconda3\\lib\\site-packages\\keras\\optimizers.py:790: The name tf.train.Optimizer is deprecated. Please use tf.compat.v1.train.Optimizer instead.\n",
      "\n"
     ]
    }
   ],
   "source": [
    "model.compile(optimizer='adam',loss='binary_crossentropy',metrics=['accuracy'])\n",
    "# adam - mini batch gradient descent\n",
    "# metrics - 'accuracy' for classification or categorical and 'mse' for regression "
   ]
  },
  {
   "cell_type": "markdown",
   "metadata": {},
   "source": [
    "### Training The Model"
   ]
  },
  {
   "cell_type": "code",
   "execution_count": 39,
   "metadata": {},
   "outputs": [
    {
     "name": "stdout",
     "output_type": "stream",
     "text": [
      "WARNING:tensorflow:From C:\\Users\\Admin\\anaconda3\\lib\\site-packages\\keras\\backend\\tensorflow_backend.py:517: The name tf.placeholder is deprecated. Please use tf.compat.v1.placeholder instead.\n",
      "\n",
      "WARNING:tensorflow:From C:\\Users\\Admin\\anaconda3\\lib\\site-packages\\keras\\backend\\tensorflow_backend.py:4138: The name tf.random_uniform is deprecated. Please use tf.random.uniform instead.\n",
      "\n",
      "WARNING:tensorflow:From C:\\Users\\Admin\\anaconda3\\lib\\site-packages\\keras\\backend\\tensorflow_backend.py:3376: The name tf.log is deprecated. Please use tf.math.log instead.\n",
      "\n",
      "WARNING:tensorflow:From C:\\Users\\Admin\\anaconda3\\lib\\site-packages\\tensorflow\\python\\ops\\nn_impl.py:180: add_dispatch_support.<locals>.wrapper (from tensorflow.python.ops.array_ops) is deprecated and will be removed in a future version.\n",
      "Instructions for updating:\n",
      "Use tf.where in 2.0, which has the same broadcast rule as np.where\n",
      "WARNING:tensorflow:From C:\\Users\\Admin\\anaconda3\\lib\\site-packages\\keras\\backend\\tensorflow_backend.py:986: The name tf.assign_add is deprecated. Please use tf.compat.v1.assign_add instead.\n",
      "\n",
      "Epoch 1/300\n",
      "7000/7000 [==============================] - 1s 192us/step - loss: 0.5294 - acc: 0.7946\n",
      "Epoch 2/300\n",
      "7000/7000 [==============================] - 0s 62us/step - loss: 0.4322 - acc: 0.7977\n",
      "Epoch 3/300\n",
      "7000/7000 [==============================] - 0s 46us/step - loss: 0.4258 - acc: 0.7977\n",
      "Epoch 4/300\n",
      "7000/7000 [==============================] - 0s 49us/step - loss: 0.4205 - acc: 0.8143\n",
      "Epoch 5/300\n",
      "7000/7000 [==============================] - 0s 47us/step - loss: 0.4151 - acc: 0.8256\n",
      "Epoch 6/300\n",
      "7000/7000 [==============================] - 0s 49us/step - loss: 0.4111 - acc: 0.8287\n",
      "Epoch 7/300\n",
      "7000/7000 [==============================] - 0s 53us/step - loss: 0.4068 - acc: 0.8311\n",
      "Epoch 8/300\n",
      "7000/7000 [==============================] - 0s 50us/step - loss: 0.4044 - acc: 0.8326\n",
      "Epoch 9/300\n",
      "7000/7000 [==============================] - 0s 48us/step - loss: 0.4019 - acc: 0.8333\n",
      "Epoch 10/300\n",
      "7000/7000 [==============================] - 0s 50us/step - loss: 0.4003 - acc: 0.8324\n",
      "Epoch 11/300\n",
      "7000/7000 [==============================] - 0s 48us/step - loss: 0.3997 - acc: 0.8356\n",
      "Epoch 12/300\n",
      "7000/7000 [==============================] - 0s 46us/step - loss: 0.3983 - acc: 0.8346\n",
      "Epoch 13/300\n",
      "7000/7000 [==============================] - 0s 48us/step - loss: 0.3977 - acc: 0.8354\n",
      "Epoch 14/300\n",
      "7000/7000 [==============================] - 0s 50us/step - loss: 0.3961 - acc: 0.8356\n",
      "Epoch 15/300\n",
      "7000/7000 [==============================] - 0s 52us/step - loss: 0.3964 - acc: 0.8349\n",
      "Epoch 16/300\n",
      "7000/7000 [==============================] - 0s 53us/step - loss: 0.3954 - acc: 0.8370\n",
      "Epoch 17/300\n",
      "7000/7000 [==============================] - 1s 85us/step - loss: 0.3950 - acc: 0.8363\n",
      "Epoch 18/300\n",
      "7000/7000 [==============================] - 0s 56us/step - loss: 0.3946 - acc: 0.8381\n",
      "Epoch 19/300\n",
      "7000/7000 [==============================] - 0s 54us/step - loss: 0.3941 - acc: 0.8374\n",
      "Epoch 20/300\n",
      "7000/7000 [==============================] - 1s 78us/step - loss: 0.3936 - acc: 0.8380\n",
      "Epoch 21/300\n",
      "7000/7000 [==============================] - 0s 51us/step - loss: 0.3932 - acc: 0.8373\n",
      "Epoch 22/300\n",
      "7000/7000 [==============================] - 0s 46us/step - loss: 0.3931 - acc: 0.8364\n",
      "Epoch 23/300\n",
      "7000/7000 [==============================] - 1s 81us/step - loss: 0.3926 - acc: 0.8370\n",
      "Epoch 24/300\n",
      "7000/7000 [==============================] - 0s 46us/step - loss: 0.3918 - acc: 0.8384\n",
      "Epoch 25/300\n",
      "7000/7000 [==============================] - 0s 59us/step - loss: 0.3907 - acc: 0.8393\n",
      "Epoch 26/300\n",
      "7000/7000 [==============================] - 0s 53us/step - loss: 0.3888 - acc: 0.8403\n",
      "Epoch 27/300\n",
      "7000/7000 [==============================] - 0s 46us/step - loss: 0.3864 - acc: 0.8420\n",
      "Epoch 28/300\n",
      "7000/7000 [==============================] - 0s 49us/step - loss: 0.3831 - acc: 0.8427\n",
      "Epoch 29/300\n",
      "7000/7000 [==============================] - 0s 51us/step - loss: 0.3813 - acc: 0.8401\n",
      "Epoch 30/300\n",
      "7000/7000 [==============================] - 0s 51us/step - loss: 0.3782 - acc: 0.8424\n",
      "Epoch 31/300\n",
      "7000/7000 [==============================] - 1s 85us/step - loss: 0.3766 - acc: 0.8439\n",
      "Epoch 32/300\n",
      "7000/7000 [==============================] - 0s 51us/step - loss: 0.3742 - acc: 0.8431\n",
      "Epoch 33/300\n",
      "7000/7000 [==============================] - 0s 46us/step - loss: 0.3732 - acc: 0.8444\n",
      "Epoch 34/300\n",
      "7000/7000 [==============================] - 0s 50us/step - loss: 0.3717 - acc: 0.8434\n",
      "Epoch 35/300\n",
      "7000/7000 [==============================] - 0s 46us/step - loss: 0.3705 - acc: 0.8461\n",
      "Epoch 36/300\n",
      "7000/7000 [==============================] - 0s 47us/step - loss: 0.3695 - acc: 0.8434\n",
      "Epoch 37/300\n",
      "7000/7000 [==============================] - 0s 48us/step - loss: 0.3679 - acc: 0.8439\n",
      "Epoch 38/300\n",
      "7000/7000 [==============================] - 0s 49us/step - loss: 0.3663 - acc: 0.8463\n",
      "Epoch 39/300\n",
      "7000/7000 [==============================] - 0s 47us/step - loss: 0.3664 - acc: 0.8417\n",
      "Epoch 40/300\n",
      "7000/7000 [==============================] - 0s 60us/step - loss: 0.3659 - acc: 0.8454\n",
      "Epoch 41/300\n",
      "7000/7000 [==============================] - 0s 50us/step - loss: 0.3644 - acc: 0.8469\n",
      "Epoch 42/300\n",
      "7000/7000 [==============================] - 0s 50us/step - loss: 0.3641 - acc: 0.8467\n",
      "Epoch 43/300\n",
      "7000/7000 [==============================] - 0s 62us/step - loss: 0.3631 - acc: 0.8453\n",
      "Epoch 44/300\n",
      "7000/7000 [==============================] - 0s 56us/step - loss: 0.3624 - acc: 0.8461\n",
      "Epoch 45/300\n",
      "7000/7000 [==============================] - 0s 65us/step - loss: 0.3624 - acc: 0.8449\n",
      "Epoch 46/300\n",
      "7000/7000 [==============================] - 1s 112us/step - loss: 0.3606 - acc: 0.8463\n",
      "Epoch 47/300\n",
      "7000/7000 [==============================] - 0s 49us/step - loss: 0.3604 - acc: 0.8467\n",
      "Epoch 48/300\n",
      "7000/7000 [==============================] - 0s 48us/step - loss: 0.3599 - acc: 0.8477\n",
      "Epoch 49/300\n",
      "7000/7000 [==============================] - 0s 47us/step - loss: 0.3584 - acc: 0.8480\n",
      "Epoch 50/300\n",
      "7000/7000 [==============================] - 0s 45us/step - loss: 0.3580 - acc: 0.8467\n",
      "Epoch 51/300\n",
      "7000/7000 [==============================] - 0s 49us/step - loss: 0.3587 - acc: 0.8491\n",
      "Epoch 52/300\n",
      "7000/7000 [==============================] - 0s 46us/step - loss: 0.3583 - acc: 0.8486\n",
      "Epoch 53/300\n",
      "7000/7000 [==============================] - 0s 45us/step - loss: 0.3575 - acc: 0.8491\n",
      "Epoch 54/300\n",
      "7000/7000 [==============================] - 0s 49us/step - loss: 0.3565 - acc: 0.8483\n",
      "Epoch 55/300\n",
      "7000/7000 [==============================] - 0s 46us/step - loss: 0.3577 - acc: 0.8496\n",
      "Epoch 56/300\n",
      "7000/7000 [==============================] - 0s 46us/step - loss: 0.3556 - acc: 0.8509\n",
      "Epoch 57/300\n",
      "7000/7000 [==============================] - 0s 48us/step - loss: 0.3551 - acc: 0.8486\n",
      "Epoch 58/300\n",
      "7000/7000 [==============================] - 0s 47us/step - loss: 0.3544 - acc: 0.8494\n",
      "Epoch 59/300\n",
      "7000/7000 [==============================] - 0s 47us/step - loss: 0.3528 - acc: 0.8521\n",
      "Epoch 60/300\n",
      "7000/7000 [==============================] - 0s 49us/step - loss: 0.3526 - acc: 0.8523\n",
      "Epoch 61/300\n",
      "7000/7000 [==============================] - 0s 50us/step - loss: 0.3517 - acc: 0.8546\n",
      "Epoch 62/300\n",
      "7000/7000 [==============================] - 1s 77us/step - loss: 0.3507 - acc: 0.8543\n",
      "Epoch 63/300\n",
      "7000/7000 [==============================] - 0s 53us/step - loss: 0.3494 - acc: 0.8560\n",
      "Epoch 64/300\n",
      "7000/7000 [==============================] - 0s 45us/step - loss: 0.3482 - acc: 0.8563\n",
      "Epoch 65/300\n",
      "7000/7000 [==============================] - 0s 45us/step - loss: 0.3455 - acc: 0.8586\n",
      "Epoch 66/300\n",
      "7000/7000 [==============================] - 0s 49us/step - loss: 0.3450 - acc: 0.8596\n",
      "Epoch 67/300\n",
      "7000/7000 [==============================] - 0s 48us/step - loss: 0.3429 - acc: 0.8603\n",
      "Epoch 68/300\n",
      "7000/7000 [==============================] - 0s 46us/step - loss: 0.3400 - acc: 0.8604\n",
      "Epoch 69/300\n",
      "7000/7000 [==============================] - 0s 48us/step - loss: 0.3390 - acc: 0.8647\n",
      "Epoch 70/300\n",
      "7000/7000 [==============================] - 0s 48us/step - loss: 0.3353 - acc: 0.8669\n",
      "Epoch 71/300\n",
      "7000/7000 [==============================] - 0s 46us/step - loss: 0.3327 - acc: 0.8629\n",
      "Epoch 72/300\n"
     ]
    },
    {
     "name": "stdout",
     "output_type": "stream",
     "text": [
      "7000/7000 [==============================] - 0s 47us/step - loss: 0.3324 - acc: 0.8670\n",
      "Epoch 73/300\n",
      "7000/7000 [==============================] - 0s 45us/step - loss: 0.3304 - acc: 0.8643\n",
      "Epoch 74/300\n",
      "7000/7000 [==============================] - 0s 46us/step - loss: 0.3301 - acc: 0.8651\n",
      "Epoch 75/300\n",
      "7000/7000 [==============================] - 0s 52us/step - loss: 0.3287 - acc: 0.8669\n",
      "Epoch 76/300\n",
      "7000/7000 [==============================] - 0s 46us/step - loss: 0.3283 - acc: 0.8676\n",
      "Epoch 77/300\n",
      "7000/7000 [==============================] - 0s 57us/step - loss: 0.3279 - acc: 0.8663\n",
      "Epoch 78/300\n",
      "7000/7000 [==============================] - 1s 78us/step - loss: 0.3277 - acc: 0.8657\n",
      "Epoch 79/300\n",
      "7000/7000 [==============================] - 0s 54us/step - loss: 0.3265 - acc: 0.8674\n",
      "Epoch 80/300\n",
      "7000/7000 [==============================] - 0s 49us/step - loss: 0.3269 - acc: 0.8666\n",
      "Epoch 81/300\n",
      "7000/7000 [==============================] - 0s 55us/step - loss: 0.3256 - acc: 0.8679\n",
      "Epoch 82/300\n",
      "7000/7000 [==============================] - 0s 46us/step - loss: 0.3254 - acc: 0.8659: 0s - loss: 0.3381 - acc: \n",
      "Epoch 83/300\n",
      "7000/7000 [==============================] - 0s 45us/step - loss: 0.3258 - acc: 0.8676\n",
      "Epoch 84/300\n",
      "7000/7000 [==============================] - 0s 48us/step - loss: 0.3249 - acc: 0.8681\n",
      "Epoch 85/300\n",
      "7000/7000 [==============================] - 0s 44us/step - loss: 0.3258 - acc: 0.8669\n",
      "Epoch 86/300\n",
      "7000/7000 [==============================] - 0s 44us/step - loss: 0.3245 - acc: 0.8670\n",
      "Epoch 87/300\n",
      "7000/7000 [==============================] - 0s 48us/step - loss: 0.3245 - acc: 0.8670\n",
      "Epoch 88/300\n",
      "7000/7000 [==============================] - 0s 44us/step - loss: 0.3250 - acc: 0.8686\n",
      "Epoch 89/300\n",
      "7000/7000 [==============================] - 0s 44us/step - loss: 0.3244 - acc: 0.8687\n",
      "Epoch 90/300\n",
      "7000/7000 [==============================] - 0s 47us/step - loss: 0.3236 - acc: 0.8693\n",
      "Epoch 91/300\n",
      "7000/7000 [==============================] - 0s 43us/step - loss: 0.3240 - acc: 0.8660\n",
      "Epoch 92/300\n",
      "7000/7000 [==============================] - 0s 45us/step - loss: 0.3236 - acc: 0.8659\n",
      "Epoch 93/300\n",
      "7000/7000 [==============================] - 0s 45us/step - loss: 0.3225 - acc: 0.8693\n",
      "Epoch 94/300\n",
      "7000/7000 [==============================] - 1s 75us/step - loss: 0.3236 - acc: 0.8686\n",
      "Epoch 95/300\n",
      "7000/7000 [==============================] - 0s 56us/step - loss: 0.3224 - acc: 0.8680\n",
      "Epoch 96/300\n",
      "7000/7000 [==============================] - 0s 48us/step - loss: 0.3227 - acc: 0.8661\n",
      "Epoch 97/300\n",
      "7000/7000 [==============================] - 0s 45us/step - loss: 0.3225 - acc: 0.8696\n",
      "Epoch 98/300\n",
      "7000/7000 [==============================] - 0s 45us/step - loss: 0.3222 - acc: 0.8663\n",
      "Epoch 99/300\n",
      "7000/7000 [==============================] - 0s 46us/step - loss: 0.3221 - acc: 0.8704\n",
      "Epoch 100/300\n",
      "7000/7000 [==============================] - 0s 44us/step - loss: 0.3215 - acc: 0.8683\n",
      "Epoch 101/300\n",
      "7000/7000 [==============================] - 0s 46us/step - loss: 0.3223 - acc: 0.8689\n",
      "Epoch 102/300\n",
      "7000/7000 [==============================] - 0s 46us/step - loss: 0.3221 - acc: 0.8683\n",
      "Epoch 103/300\n",
      "7000/7000 [==============================] - 0s 46us/step - loss: 0.3222 - acc: 0.8681\n",
      "Epoch 104/300\n",
      "7000/7000 [==============================] - 0s 43us/step - loss: 0.3220 - acc: 0.8681\n",
      "Epoch 105/300\n",
      "7000/7000 [==============================] - 0s 46us/step - loss: 0.3213 - acc: 0.8694\n",
      "Epoch 106/300\n",
      "7000/7000 [==============================] - 0s 47us/step - loss: 0.3210 - acc: 0.8699\n",
      "Epoch 107/300\n",
      "7000/7000 [==============================] - 0s 44us/step - loss: 0.3220 - acc: 0.8694\n",
      "Epoch 108/300\n",
      "7000/7000 [==============================] - 0s 46us/step - loss: 0.3220 - acc: 0.8687\n",
      "Epoch 109/300\n",
      "7000/7000 [==============================] - 0s 48us/step - loss: 0.3211 - acc: 0.8664\n",
      "Epoch 110/300\n",
      "7000/7000 [==============================] - 0s 63us/step - loss: 0.3210 - acc: 0.8674\n",
      "Epoch 111/300\n",
      "7000/7000 [==============================] - 1s 73us/step - loss: 0.3213 - acc: 0.8679\n",
      "Epoch 112/300\n",
      "7000/7000 [==============================] - 0s 44us/step - loss: 0.3202 - acc: 0.8697\n",
      "Epoch 113/300\n",
      "7000/7000 [==============================] - 0s 45us/step - loss: 0.3212 - acc: 0.8694\n",
      "Epoch 114/300\n",
      "7000/7000 [==============================] - 0s 45us/step - loss: 0.3200 - acc: 0.8686\n",
      "Epoch 115/300\n",
      "7000/7000 [==============================] - 0s 48us/step - loss: 0.3204 - acc: 0.8690\n",
      "Epoch 116/300\n",
      "7000/7000 [==============================] - 0s 46us/step - loss: 0.3204 - acc: 0.8704\n",
      "Epoch 117/300\n",
      "7000/7000 [==============================] - 0s 45us/step - loss: 0.3202 - acc: 0.8690\n",
      "Epoch 118/300\n",
      "7000/7000 [==============================] - 0s 48us/step - loss: 0.3201 - acc: 0.8673\n",
      "Epoch 119/300\n",
      "7000/7000 [==============================] - 0s 45us/step - loss: 0.3202 - acc: 0.8674\n",
      "Epoch 120/300\n",
      "7000/7000 [==============================] - 0s 44us/step - loss: 0.3193 - acc: 0.8683\n",
      "Epoch 121/300\n",
      "7000/7000 [==============================] - 0s 48us/step - loss: 0.3193 - acc: 0.8690\n",
      "Epoch 122/300\n",
      "7000/7000 [==============================] - 0s 46us/step - loss: 0.3200 - acc: 0.8676\n",
      "Epoch 123/300\n",
      "7000/7000 [==============================] - 0s 45us/step - loss: 0.3203 - acc: 0.8689\n",
      "Epoch 124/300\n",
      "7000/7000 [==============================] - 0s 48us/step - loss: 0.3202 - acc: 0.8679\n",
      "Epoch 125/300\n",
      "7000/7000 [==============================] - 0s 46us/step - loss: 0.3192 - acc: 0.8703\n",
      "Epoch 126/300\n",
      "7000/7000 [==============================] - 0s 51us/step - loss: 0.3190 - acc: 0.8699\n",
      "Epoch 127/300\n",
      "7000/7000 [==============================] - 1s 74us/step - loss: 0.3201 - acc: 0.8684\n",
      "Epoch 128/300\n",
      "7000/7000 [==============================] - 0s 50us/step - loss: 0.3191 - acc: 0.8671\n",
      "Epoch 129/300\n",
      "7000/7000 [==============================] - 0s 45us/step - loss: 0.3189 - acc: 0.8699\n",
      "Epoch 130/300\n",
      "7000/7000 [==============================] - 0s 49us/step - loss: 0.3199 - acc: 0.8711\n",
      "Epoch 131/300\n",
      "7000/7000 [==============================] - 0s 47us/step - loss: 0.3199 - acc: 0.8689\n",
      "Epoch 132/300\n",
      "7000/7000 [==============================] - 0s 49us/step - loss: 0.3191 - acc: 0.8719\n",
      "Epoch 133/300\n",
      "7000/7000 [==============================] - 0s 48us/step - loss: 0.3194 - acc: 0.8693\n",
      "Epoch 134/300\n",
      "7000/7000 [==============================] - 0s 46us/step - loss: 0.3190 - acc: 0.8699\n",
      "Epoch 135/300\n",
      "7000/7000 [==============================] - 0s 45us/step - loss: 0.3194 - acc: 0.8690\n",
      "Epoch 136/300\n",
      "7000/7000 [==============================] - 0s 48us/step - loss: 0.3198 - acc: 0.8693\n",
      "Epoch 137/300\n",
      "7000/7000 [==============================] - 0s 47us/step - loss: 0.3198 - acc: 0.8700\n",
      "Epoch 138/300\n",
      "7000/7000 [==============================] - 0s 47us/step - loss: 0.3191 - acc: 0.8690\n",
      "Epoch 139/300\n",
      "7000/7000 [==============================] - 0s 47us/step - loss: 0.3182 - acc: 0.8687\n",
      "Epoch 140/300\n",
      "7000/7000 [==============================] - 0s 45us/step - loss: 0.3210 - acc: 0.8687\n",
      "Epoch 141/300\n",
      "7000/7000 [==============================] - 0s 45us/step - loss: 0.3185 - acc: 0.8703\n",
      "Epoch 142/300\n",
      "7000/7000 [==============================] - 0s 52us/step - loss: 0.3180 - acc: 0.8713\n",
      "Epoch 143/300\n",
      "7000/7000 [==============================] - 1s 75us/step - loss: 0.3196 - acc: 0.8689\n",
      "Epoch 144/300\n",
      "7000/7000 [==============================] - 0s 48us/step - loss: 0.3183 - acc: 0.8704\n",
      "Epoch 145/300\n",
      "7000/7000 [==============================] - 0s 47us/step - loss: 0.3192 - acc: 0.8707\n",
      "Epoch 146/300\n",
      "7000/7000 [==============================] - 0s 43us/step - loss: 0.3189 - acc: 0.8687\n",
      "Epoch 147/300\n",
      "7000/7000 [==============================] - 0s 42us/step - loss: 0.3196 - acc: 0.8693\n",
      "Epoch 148/300\n",
      "7000/7000 [==============================] - 0s 42us/step - loss: 0.3196 - acc: 0.8694\n",
      "Epoch 149/300\n",
      "7000/7000 [==============================] - 0s 45us/step - loss: 0.3177 - acc: 0.8706\n",
      "Epoch 150/300\n",
      "7000/7000 [==============================] - 0s 43us/step - loss: 0.3190 - acc: 0.8681\n",
      "Epoch 151/300\n",
      "7000/7000 [==============================] - 0s 46us/step - loss: 0.3178 - acc: 0.8684\n",
      "Epoch 152/300\n",
      "7000/7000 [==============================] - 0s 48us/step - loss: 0.3186 - acc: 0.8687\n",
      "Epoch 153/300\n"
     ]
    },
    {
     "name": "stdout",
     "output_type": "stream",
     "text": [
      "7000/7000 [==============================] - 0s 44us/step - loss: 0.3170 - acc: 0.8690\n",
      "Epoch 154/300\n",
      "7000/7000 [==============================] - 0s 42us/step - loss: 0.3178 - acc: 0.8679\n",
      "Epoch 155/300\n",
      "7000/7000 [==============================] - 0s 45us/step - loss: 0.3171 - acc: 0.8706\n",
      "Epoch 156/300\n",
      "7000/7000 [==============================] - 0s 42us/step - loss: 0.3174 - acc: 0.8680\n",
      "Epoch 157/300\n",
      "7000/7000 [==============================] - 0s 41us/step - loss: 0.3179 - acc: 0.8691\n",
      "Epoch 158/300\n",
      "7000/7000 [==============================] - 0s 43us/step - loss: 0.3179 - acc: 0.8690\n",
      "Epoch 159/300\n",
      "7000/7000 [==============================] - 0s 44us/step - loss: 0.3188 - acc: 0.8683\n",
      "Epoch 160/300\n",
      "7000/7000 [==============================] - 0s 71us/step - loss: 0.3176 - acc: 0.8716\n",
      "Epoch 161/300\n",
      "7000/7000 [==============================] - 0s 50us/step - loss: 0.3172 - acc: 0.8714\n",
      "Epoch 162/300\n",
      "7000/7000 [==============================] - 0s 43us/step - loss: 0.3176 - acc: 0.8689\n",
      "Epoch 163/300\n",
      "7000/7000 [==============================] - 0s 42us/step - loss: 0.3181 - acc: 0.8686\n",
      "Epoch 164/300\n",
      "7000/7000 [==============================] - 0s 42us/step - loss: 0.3172 - acc: 0.8706\n",
      "Epoch 165/300\n",
      "7000/7000 [==============================] - 0s 45us/step - loss: 0.3168 - acc: 0.8696\n",
      "Epoch 166/300\n",
      "7000/7000 [==============================] - 0s 42us/step - loss: 0.3177 - acc: 0.8669\n",
      "Epoch 167/300\n",
      "7000/7000 [==============================] - 0s 42us/step - loss: 0.3165 - acc: 0.8666\n",
      "Epoch 168/300\n",
      "7000/7000 [==============================] - 0s 46us/step - loss: 0.3176 - acc: 0.8686\n",
      "Epoch 169/300\n",
      "7000/7000 [==============================] - 0s 42us/step - loss: 0.3167 - acc: 0.8696\n",
      "Epoch 170/300\n",
      "7000/7000 [==============================] - 0s 42us/step - loss: 0.3167 - acc: 0.8714\n",
      "Epoch 171/300\n",
      "7000/7000 [==============================] - 0s 42us/step - loss: 0.3165 - acc: 0.8680\n",
      "Epoch 172/300\n",
      "7000/7000 [==============================] - 0s 44us/step - loss: 0.3172 - acc: 0.8703\n",
      "Epoch 173/300\n",
      "7000/7000 [==============================] - 0s 41us/step - loss: 0.3151 - acc: 0.8694\n",
      "Epoch 174/300\n",
      "7000/7000 [==============================] - 0s 42us/step - loss: 0.3161 - acc: 0.8701: 0s - loss: 0.3122 - acc: 0.8\n",
      "Epoch 175/300\n",
      "7000/7000 [==============================] - 0s 45us/step - loss: 0.3172 - acc: 0.8677\n",
      "Epoch 176/300\n",
      "7000/7000 [==============================] - 0s 42us/step - loss: 0.3159 - acc: 0.8699\n",
      "Epoch 177/300\n",
      "7000/7000 [==============================] - 0s 60us/step - loss: 0.3161 - acc: 0.8700\n",
      "Epoch 178/300\n",
      "7000/7000 [==============================] - 0s 62us/step - loss: 0.3168 - acc: 0.8707\n",
      "Epoch 179/300\n",
      "7000/7000 [==============================] - 0s 42us/step - loss: 0.3180 - acc: 0.8680\n",
      "Epoch 180/300\n",
      "7000/7000 [==============================] - 0s 42us/step - loss: 0.3168 - acc: 0.8719\n",
      "Epoch 181/300\n",
      "7000/7000 [==============================] - 0s 44us/step - loss: 0.3156 - acc: 0.8704\n",
      "Epoch 182/300\n",
      "7000/7000 [==============================] - 0s 42us/step - loss: 0.3167 - acc: 0.8694\n",
      "Epoch 183/300\n",
      "7000/7000 [==============================] - 0s 42us/step - loss: 0.3160 - acc: 0.8716\n",
      "Epoch 184/300\n",
      "7000/7000 [==============================] - 0s 43us/step - loss: 0.3148 - acc: 0.8721\n",
      "Epoch 185/300\n",
      "7000/7000 [==============================] - 0s 45us/step - loss: 0.3164 - acc: 0.8700\n",
      "Epoch 186/300\n",
      "7000/7000 [==============================] - 0s 42us/step - loss: 0.3171 - acc: 0.8713\n",
      "Epoch 187/300\n",
      "7000/7000 [==============================] - 0s 44us/step - loss: 0.3167 - acc: 0.8700\n",
      "Epoch 188/300\n",
      "7000/7000 [==============================] - 0s 45us/step - loss: 0.3163 - acc: 0.8690\n",
      "Epoch 189/300\n",
      "7000/7000 [==============================] - 0s 42us/step - loss: 0.3164 - acc: 0.8681\n",
      "Epoch 190/300\n",
      "7000/7000 [==============================] - 0s 44us/step - loss: 0.3162 - acc: 0.8700\n",
      "Epoch 191/300\n",
      "7000/7000 [==============================] - 0s 43us/step - loss: 0.3159 - acc: 0.8684\n",
      "Epoch 192/300\n",
      "7000/7000 [==============================] - 0s 43us/step - loss: 0.3158 - acc: 0.8721\n",
      "Epoch 193/300\n",
      "7000/7000 [==============================] - 0s 42us/step - loss: 0.3163 - acc: 0.8711\n",
      "Epoch 194/300\n",
      "7000/7000 [==============================] - 0s 50us/step - loss: 0.3153 - acc: 0.8721\n",
      "Epoch 195/300\n",
      "7000/7000 [==============================] - 1s 72us/step - loss: 0.3165 - acc: 0.8701\n",
      "Epoch 196/300\n",
      "7000/7000 [==============================] - 0s 44us/step - loss: 0.3162 - acc: 0.8687\n",
      "Epoch 197/300\n",
      "7000/7000 [==============================] - 0s 41us/step - loss: 0.3154 - acc: 0.8701\n",
      "Epoch 198/300\n",
      "7000/7000 [==============================] - 0s 46us/step - loss: 0.3155 - acc: 0.8703\n",
      "Epoch 199/300\n",
      "7000/7000 [==============================] - 0s 42us/step - loss: 0.3160 - acc: 0.8709\n",
      "Epoch 200/300\n",
      "7000/7000 [==============================] - 0s 42us/step - loss: 0.3140 - acc: 0.8704\n",
      "Epoch 201/300\n",
      "7000/7000 [==============================] - 0s 45us/step - loss: 0.3150 - acc: 0.8699\n",
      "Epoch 202/300\n",
      "7000/7000 [==============================] - 0s 42us/step - loss: 0.3156 - acc: 0.8677\n",
      "Epoch 203/300\n",
      "7000/7000 [==============================] - 0s 42us/step - loss: 0.3153 - acc: 0.8684\n",
      "Epoch 204/300\n",
      "7000/7000 [==============================] - 0s 45us/step - loss: 0.3159 - acc: 0.8723\n",
      "Epoch 205/300\n",
      "7000/7000 [==============================] - 0s 44us/step - loss: 0.3158 - acc: 0.8710\n",
      "Epoch 206/300\n",
      "7000/7000 [==============================] - 0s 42us/step - loss: 0.3159 - acc: 0.8687\n",
      "Epoch 207/300\n",
      "7000/7000 [==============================] - 0s 44us/step - loss: 0.3150 - acc: 0.8703\n",
      "Epoch 208/300\n",
      "7000/7000 [==============================] - 0s 44us/step - loss: 0.3155 - acc: 0.8693\n",
      "Epoch 209/300\n",
      "7000/7000 [==============================] - 0s 42us/step - loss: 0.3152 - acc: 0.8689\n",
      "Epoch 210/300\n",
      "7000/7000 [==============================] - 0s 42us/step - loss: 0.3151 - acc: 0.8686\n",
      "Epoch 211/300\n",
      "7000/7000 [==============================] - 0s 45us/step - loss: 0.3153 - acc: 0.8704\n",
      "Epoch 212/300\n",
      "7000/7000 [==============================] - 1s 72us/step - loss: 0.3153 - acc: 0.8693\n",
      "Epoch 213/300\n",
      "7000/7000 [==============================] - 0s 49us/step - loss: 0.3152 - acc: 0.8681\n",
      "Epoch 214/300\n",
      "7000/7000 [==============================] - 0s 45us/step - loss: 0.3155 - acc: 0.8691\n",
      "Epoch 215/300\n",
      "7000/7000 [==============================] - 0s 42us/step - loss: 0.3155 - acc: 0.8713\n",
      "Epoch 216/300\n",
      "7000/7000 [==============================] - 0s 42us/step - loss: 0.3144 - acc: 0.8711\n",
      "Epoch 217/300\n",
      "7000/7000 [==============================] - 0s 46us/step - loss: 0.3149 - acc: 0.8696\n",
      "Epoch 218/300\n",
      "7000/7000 [==============================] - 0s 42us/step - loss: 0.3154 - acc: 0.8693\n",
      "Epoch 219/300\n",
      "7000/7000 [==============================] - 0s 43us/step - loss: 0.3144 - acc: 0.8694\n",
      "Epoch 220/300\n",
      "7000/7000 [==============================] - 0s 42us/step - loss: 0.3144 - acc: 0.8703\n",
      "Epoch 221/300\n",
      "7000/7000 [==============================] - 0s 45us/step - loss: 0.3138 - acc: 0.8710\n",
      "Epoch 222/300\n",
      "7000/7000 [==============================] - 0s 42us/step - loss: 0.3141 - acc: 0.8711\n",
      "Epoch 223/300\n",
      "7000/7000 [==============================] - 0s 42us/step - loss: 0.3154 - acc: 0.8684\n",
      "Epoch 224/300\n",
      "7000/7000 [==============================] - 0s 45us/step - loss: 0.3148 - acc: 0.8691\n",
      "Epoch 225/300\n",
      "7000/7000 [==============================] - 0s 42us/step - loss: 0.3149 - acc: 0.8703\n",
      "Epoch 226/300\n",
      "7000/7000 [==============================] - 0s 43us/step - loss: 0.3145 - acc: 0.8703\n",
      "Epoch 227/300\n",
      "7000/7000 [==============================] - 0s 44us/step - loss: 0.3143 - acc: 0.8711\n",
      "Epoch 228/300\n",
      "7000/7000 [==============================] - 0s 46us/step - loss: 0.3142 - acc: 0.8691\n",
      "Epoch 229/300\n",
      "7000/7000 [==============================] - 0s 63us/step - loss: 0.3145 - acc: 0.8704\n",
      "Epoch 230/300\n",
      "7000/7000 [==============================] - 0s 64us/step - loss: 0.3136 - acc: 0.8689\n",
      "Epoch 231/300\n",
      "7000/7000 [==============================] - 0s 44us/step - loss: 0.3154 - acc: 0.8700\n",
      "Epoch 232/300\n",
      "7000/7000 [==============================] - 0s 43us/step - loss: 0.3145 - acc: 0.8707\n",
      "Epoch 233/300\n",
      "7000/7000 [==============================] - 0s 44us/step - loss: 0.3146 - acc: 0.8703\n"
     ]
    },
    {
     "name": "stdout",
     "output_type": "stream",
     "text": [
      "Epoch 234/300\n",
      "7000/7000 [==============================] - 0s 43us/step - loss: 0.3147 - acc: 0.8687\n",
      "Epoch 235/300\n",
      "7000/7000 [==============================] - 0s 42us/step - loss: 0.3134 - acc: 0.8711\n",
      "Epoch 236/300\n",
      "7000/7000 [==============================] - 0s 42us/step - loss: 0.3133 - acc: 0.8699\n",
      "Epoch 237/300\n",
      "7000/7000 [==============================] - 0s 50us/step - loss: 0.3154 - acc: 0.8727\n",
      "Epoch 238/300\n",
      "7000/7000 [==============================] - 0s 53us/step - loss: 0.3146 - acc: 0.8693\n",
      "Epoch 239/300\n",
      "7000/7000 [==============================] - 0s 46us/step - loss: 0.3136 - acc: 0.8703\n",
      "Epoch 240/300\n",
      "7000/7000 [==============================] - 0s 45us/step - loss: 0.3141 - acc: 0.8716\n",
      "Epoch 241/300\n",
      "7000/7000 [==============================] - 0s 41us/step - loss: 0.3142 - acc: 0.8700\n",
      "Epoch 242/300\n",
      "7000/7000 [==============================] - 0s 42us/step - loss: 0.3146 - acc: 0.8714\n",
      "Epoch 243/300\n",
      "7000/7000 [==============================] - 0s 45us/step - loss: 0.3135 - acc: 0.8706\n",
      "Epoch 244/300\n",
      "7000/7000 [==============================] - 0s 42us/step - loss: 0.3138 - acc: 0.8719\n",
      "Epoch 245/300\n",
      "7000/7000 [==============================] - 0s 42us/step - loss: 0.3146 - acc: 0.8709\n",
      "Epoch 246/300\n",
      "7000/7000 [==============================] - 0s 71us/step - loss: 0.3146 - acc: 0.8693\n",
      "Epoch 247/300\n",
      "7000/7000 [==============================] - 0s 51us/step - loss: 0.3141 - acc: 0.8689\n",
      "Epoch 248/300\n",
      "7000/7000 [==============================] - 0s 42us/step - loss: 0.3134 - acc: 0.8716\n",
      "Epoch 249/300\n",
      "7000/7000 [==============================] - 0s 42us/step - loss: 0.3147 - acc: 0.8706\n",
      "Epoch 250/300\n",
      "7000/7000 [==============================] - 0s 45us/step - loss: 0.3142 - acc: 0.8706\n",
      "Epoch 251/300\n",
      "7000/7000 [==============================] - 0s 42us/step - loss: 0.3134 - acc: 0.8709\n",
      "Epoch 252/300\n",
      "7000/7000 [==============================] - 0s 42us/step - loss: 0.3142 - acc: 0.8710\n",
      "Epoch 253/300\n",
      "7000/7000 [==============================] - 0s 43us/step - loss: 0.3135 - acc: 0.8709\n",
      "Epoch 254/300\n",
      "7000/7000 [==============================] - 0s 41us/step - loss: 0.3142 - acc: 0.8717\n",
      "Epoch 255/300\n",
      "7000/7000 [==============================] - 0s 43us/step - loss: 0.3137 - acc: 0.8733\n",
      "Epoch 256/300\n",
      "7000/7000 [==============================] - 0s 42us/step - loss: 0.3148 - acc: 0.8696\n",
      "Epoch 257/300\n",
      "7000/7000 [==============================] - 0s 45us/step - loss: 0.3135 - acc: 0.8706\n",
      "Epoch 258/300\n",
      "7000/7000 [==============================] - 0s 41us/step - loss: 0.3145 - acc: 0.8693\n",
      "Epoch 259/300\n",
      "7000/7000 [==============================] - 0s 42us/step - loss: 0.3152 - acc: 0.8709\n",
      "Epoch 260/300\n",
      "7000/7000 [==============================] - 0s 44us/step - loss: 0.3140 - acc: 0.8700\n",
      "Epoch 261/300\n",
      "7000/7000 [==============================] - 0s 41us/step - loss: 0.3135 - acc: 0.8710\n",
      "Epoch 262/300\n",
      "7000/7000 [==============================] - 0s 42us/step - loss: 0.3130 - acc: 0.8706\n",
      "Epoch 263/300\n",
      "7000/7000 [==============================] - 0s 55us/step - loss: 0.3135 - acc: 0.8706\n",
      "Epoch 264/300\n",
      "7000/7000 [==============================] - 0s 69us/step - loss: 0.3137 - acc: 0.8679\n",
      "Epoch 265/300\n",
      "7000/7000 [==============================] - 0s 44us/step - loss: 0.3145 - acc: 0.8699\n",
      "Epoch 266/300\n",
      "7000/7000 [==============================] - 0s 44us/step - loss: 0.3137 - acc: 0.8704\n",
      "Epoch 267/300\n",
      "7000/7000 [==============================] - 0s 41us/step - loss: 0.3128 - acc: 0.8694\n",
      "Epoch 268/300\n",
      "7000/7000 [==============================] - 0s 42us/step - loss: 0.3126 - acc: 0.8703\n",
      "Epoch 269/300\n",
      "7000/7000 [==============================] - 0s 43us/step - loss: 0.3133 - acc: 0.8709\n",
      "Epoch 270/300\n",
      "7000/7000 [==============================] - 0s 44us/step - loss: 0.3131 - acc: 0.8701\n",
      "Epoch 271/300\n",
      "7000/7000 [==============================] - 0s 42us/step - loss: 0.3141 - acc: 0.8701\n",
      "Epoch 272/300\n",
      "7000/7000 [==============================] - 0s 42us/step - loss: 0.3136 - acc: 0.8707\n",
      "Epoch 273/300\n",
      "7000/7000 [==============================] - 0s 44us/step - loss: 0.3153 - acc: 0.8714\n",
      "Epoch 274/300\n",
      "7000/7000 [==============================] - 0s 42us/step - loss: 0.3128 - acc: 0.8701\n",
      "Epoch 275/300\n",
      "7000/7000 [==============================] - 0s 41us/step - loss: 0.3134 - acc: 0.8709\n",
      "Epoch 276/300\n",
      "7000/7000 [==============================] - 0s 42us/step - loss: 0.3128 - acc: 0.8719\n",
      "Epoch 277/300\n",
      "7000/7000 [==============================] - 0s 46us/step - loss: 0.3134 - acc: 0.8729\n",
      "Epoch 278/300\n",
      "7000/7000 [==============================] - 0s 42us/step - loss: 0.3143 - acc: 0.8700\n",
      "Epoch 279/300\n",
      "7000/7000 [==============================] - 0s 42us/step - loss: 0.3127 - acc: 0.8710\n",
      "Epoch 280/300\n",
      "7000/7000 [==============================] - 0s 46us/step - loss: 0.3138 - acc: 0.8694\n",
      "Epoch 281/300\n",
      "7000/7000 [==============================] - 0s 71us/step - loss: 0.3131 - acc: 0.8691\n",
      "Epoch 282/300\n",
      "7000/7000 [==============================] - 0s 51us/step - loss: 0.3135 - acc: 0.8699\n",
      "Epoch 283/300\n",
      "7000/7000 [==============================] - 0s 45us/step - loss: 0.3129 - acc: 0.8716\n",
      "Epoch 284/300\n",
      "7000/7000 [==============================] - 0s 42us/step - loss: 0.3130 - acc: 0.8700\n",
      "Epoch 285/300\n",
      "7000/7000 [==============================] - 0s 46us/step - loss: 0.3127 - acc: 0.8699\n",
      "Epoch 286/300\n",
      "7000/7000 [==============================] - 0s 45us/step - loss: 0.3126 - acc: 0.8727\n",
      "Epoch 287/300\n",
      "7000/7000 [==============================] - 0s 41us/step - loss: 0.3123 - acc: 0.8716\n",
      "Epoch 288/300\n",
      "7000/7000 [==============================] - 0s 42us/step - loss: 0.3127 - acc: 0.8704\n",
      "Epoch 289/300\n",
      "7000/7000 [==============================] - 0s 45us/step - loss: 0.3133 - acc: 0.8717\n",
      "Epoch 290/300\n",
      "7000/7000 [==============================] - 0s 42us/step - loss: 0.3121 - acc: 0.8721\n",
      "Epoch 291/300\n",
      "7000/7000 [==============================] - 0s 42us/step - loss: 0.3128 - acc: 0.8711\n",
      "Epoch 292/300\n",
      "7000/7000 [==============================] - 0s 42us/step - loss: 0.3127 - acc: 0.8710\n",
      "Epoch 293/300\n",
      "7000/7000 [==============================] - 0s 46us/step - loss: 0.3128 - acc: 0.8730\n",
      "Epoch 294/300\n",
      "7000/7000 [==============================] - 0s 42us/step - loss: 0.3129 - acc: 0.8711\n",
      "Epoch 295/300\n",
      "7000/7000 [==============================] - 0s 42us/step - loss: 0.3136 - acc: 0.8707\n",
      "Epoch 296/300\n",
      "7000/7000 [==============================] - 0s 46us/step - loss: 0.3129 - acc: 0.8713\n",
      "Epoch 297/300\n",
      "7000/7000 [==============================] - 0s 42us/step - loss: 0.3126 - acc: 0.8729\n",
      "Epoch 298/300\n",
      "7000/7000 [==============================] - 0s 66us/step - loss: 0.3126 - acc: 0.8716\n",
      "Epoch 299/300\n",
      "7000/7000 [==============================] - 0s 59us/step - loss: 0.3138 - acc: 0.8697\n",
      "Epoch 300/300\n",
      "7000/7000 [==============================] - 0s 42us/step - loss: 0.3126 - acc: 0.8716\n"
     ]
    },
    {
     "data": {
      "text/plain": [
       "<keras.callbacks.History at 0x20be307e488>"
      ]
     },
     "execution_count": 39,
     "metadata": {},
     "output_type": "execute_result"
    }
   ],
   "source": [
    "model.fit(x_train,y_train,epochs=300,batch_size=32)\n",
    "# epochs - how many times you have to train the model\n",
    "# batch_size - 32 rows in each batch\n",
    "    # for each epochs 1 batch(group of 32 rows) is taken\n",
    "    # for each epochs loss and accuracy is printed adjacent to it"
   ]
  },
  {
   "cell_type": "markdown",
   "metadata": {},
   "source": [
    "###  Testing The Model By Predicting The Value"
   ]
  },
  {
   "cell_type": "code",
   "execution_count": 40,
   "metadata": {},
   "outputs": [
    {
     "data": {
      "text/plain": [
       "array([[0.2543386 ],\n",
       "       [0.2577759 ],\n",
       "       [0.0616717 ],\n",
       "       ...,\n",
       "       [0.08748052],\n",
       "       [0.02317113],\n",
       "       [0.46956348]], dtype=float32)"
      ]
     },
     "execution_count": 40,
     "metadata": {},
     "output_type": "execute_result"
    }
   ],
   "source": [
    "y_pred=model.predict(x_test)\n",
    "y_pred"
   ]
  },
  {
   "cell_type": "code",
   "execution_count": 41,
   "metadata": {},
   "outputs": [
    {
     "data": {
      "text/plain": [
       "array([0, 1, 0, ..., 0, 0, 1], dtype=int64)"
      ]
     },
     "execution_count": 41,
     "metadata": {},
     "output_type": "execute_result"
    }
   ],
   "source": [
    "y_test"
   ]
  },
  {
   "cell_type": "markdown",
   "metadata": {},
   "source": [
    "### Since We Used Sigmoid Function the values will be ranging near '0' so converting it into '0' or '1' using "
   ]
  },
  {
   "cell_type": "code",
   "execution_count": 42,
   "metadata": {},
   "outputs": [
    {
     "data": {
      "text/plain": [
       "array([[False],\n",
       "       [False],\n",
       "       [False],\n",
       "       ...,\n",
       "       [False],\n",
       "       [False],\n",
       "       [False]])"
      ]
     },
     "execution_count": 42,
     "metadata": {},
     "output_type": "execute_result"
    }
   ],
   "source": [
    "y_pred=y_pred>0.5\n",
    "# Values greater than 0.5 returns True else it returns False\n",
    "y_pred"
   ]
  },
  {
   "cell_type": "markdown",
   "metadata": {},
   "source": [
    "### Predicting The Value For User's Input"
   ]
  },
  {
   "cell_type": "code",
   "execution_count": 43,
   "metadata": {},
   "outputs": [
    {
     "data": {
      "text/plain": [
       "array([[0.14700516]], dtype=float32)"
      ]
     },
     "execution_count": 43,
     "metadata": {},
     "output_type": "execute_result"
    }
   ],
   "source": [
    "std_use_input=std_sca.fit_transform([[1.0, 0.0, 0.0, 1.0, 0.0, 699, 39.0, 1, 0.0, 2, 0, 0, 93826.63]])\n",
    "model.predict(std_use_input)"
   ]
  },
  {
   "cell_type": "markdown",
   "metadata": {},
   "source": [
    "### Finding The Accuracy Of The Model"
   ]
  },
  {
   "cell_type": "code",
   "execution_count": 44,
   "metadata": {},
   "outputs": [
    {
     "data": {
      "text/plain": [
       "0.8573333333333333"
      ]
     },
     "execution_count": 44,
     "metadata": {},
     "output_type": "execute_result"
    }
   ],
   "source": [
    "from sklearn.metrics import accuracy_score\n",
    "accuracy_score(y_test,y_pred)"
   ]
  },
  {
   "cell_type": "markdown",
   "metadata": {},
   "source": [
    "### Format Of Confusion Matrix"
   ]
  },
  {
   "cell_type": "code",
   "execution_count": 45,
   "metadata": {},
   "outputs": [
    {
     "name": "stdout",
     "output_type": "stream",
     "text": [
      "[['True Positive','False Negative'],\n",
      "['False Positive','True Negative']]\n"
     ]
    }
   ],
   "source": [
    "print(\"[['True Positive','False Negative'],\\n['False Positive','True Negative']]\")"
   ]
  },
  {
   "cell_type": "markdown",
   "metadata": {},
   "source": [
    "### Checking The Accuracy Using Confusion Matrix"
   ]
  },
  {
   "cell_type": "code",
   "execution_count": 46,
   "metadata": {},
   "outputs": [
    {
     "name": "stdout",
     "output_type": "stream",
     "text": [
      "[[2267  112]\n",
      " [ 316  305]]\n"
     ]
    }
   ],
   "source": [
    "from sklearn.metrics import confusion_matrix\n",
    "cm=confusion_matrix(y_test,y_pred)\n",
    "print(cm)"
   ]
  },
  {
   "cell_type": "markdown",
   "metadata": {},
   "source": [
    "### Manually calculated Accuracy"
   ]
  },
  {
   "cell_type": "markdown",
   "metadata": {},
   "source": [
    "    Accuracy=(True positive+True Negative)/(True positive+True Negative+False positive+False Negative)"
   ]
  },
  {
   "cell_type": "code",
   "execution_count": 47,
   "metadata": {},
   "outputs": [
    {
     "name": "stdout",
     "output_type": "stream",
     "text": [
      "0.8573333333333333\n"
     ]
    }
   ],
   "source": [
    "print((cm[0][0]+cm[1][1])/(cm[0][0]+cm[1][1]+cm[1][0]+cm[0][1]))"
   ]
  },
  {
   "cell_type": "markdown",
   "metadata": {},
   "source": [
    "### Calculating Accuracy Using Package"
   ]
  },
  {
   "cell_type": "code",
   "execution_count": 48,
   "metadata": {},
   "outputs": [
    {
     "data": {
      "text/plain": [
       "0.8573333333333333"
      ]
     },
     "execution_count": 48,
     "metadata": {},
     "output_type": "execute_result"
    }
   ],
   "source": [
    "from sklearn.metrics import accuracy_score\n",
    "accuracy_score(y_test,y_pred)"
   ]
  }
 ],
 "metadata": {
  "kernelspec": {
   "display_name": "Python 3",
   "language": "python",
   "name": "python3"
  },
  "language_info": {
   "codemirror_mode": {
    "name": "ipython",
    "version": 3
   },
   "file_extension": ".py",
   "mimetype": "text/x-python",
   "name": "python",
   "nbconvert_exporter": "python",
   "pygments_lexer": "ipython3",
   "version": "3.7.6"
  }
 },
 "nbformat": 4,
 "nbformat_minor": 4
}
